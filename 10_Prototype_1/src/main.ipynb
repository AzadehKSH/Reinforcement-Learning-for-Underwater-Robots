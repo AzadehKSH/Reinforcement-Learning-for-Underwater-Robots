{
 "cells": [
  {
   "cell_type": "code",
   "execution_count": 1,
   "id": "dcb73edb-f03b-4ba3-855f-d7a9e9593158",
   "metadata": {},
   "outputs": [],
   "source": [
    "# IMPROVEMENTS: reimplement unexplored points or calculate unexplored points through explored points\n",
    "# IMPROVEMENTS: Use mesh plot instead of scatter plot for real time plots (plotly seems kind of unefficient for that task)"
   ]
  },
  {
   "cell_type": "code",
   "execution_count": 2,
   "id": "7864e493-0f33-4df8-8f53-8278752fccbb",
   "metadata": {},
   "outputs": [
    {
     "name": "stdout",
     "output_type": "stream",
     "text": [
      "Jupyter environment detected. Enabling Open3D WebVisualizer.\n",
      "[Open3D INFO] WebRTC GUI backend enabled.\n",
      "[Open3D INFO] WebRTCWindowSystem: HTTP handshake server disabled.\n"
     ]
    }
   ],
   "source": [
    "import holoocean\n",
    "import numpy as np\n",
    "import json\n",
    "import matplotlib.pyplot as plt\n",
    "import operator\n",
    "\n",
    "from IPython.display import clear_output\n",
    "import IPython\n",
    "import ipywidgets as widgets\n",
    "\n",
    "from Visualizer.Visualizer import Visualizer\n",
    "from Mapping.EnvironmentMap import EnvironmentMap\n",
    "from Mapping.BoundingBox import BoundingBox\n",
    "import plotly.graph_objects as go\n",
    "from Mapping.Cell import Cell\n",
    "from Agent import Agent\n",
    "\n",
    "from multiprocessing import Process, Manager\n",
    "import dash\n",
    "from dash import html\n",
    "from dash import dcc\n",
    "from dash.dependencies import Input, Output"
   ]
  },
  {
   "cell_type": "code",
   "execution_count": 3,
   "id": "88523288-95f6-4a03-9fc3-8a60ad73eab2",
   "metadata": {},
   "outputs": [],
   "source": [
    "headless = widgets.Checkbox(\n",
    "           description='Running agent headless? I.e. show the HoloOcean simulator?',\n",
    "           value=True\n",
    ")\n",
    "debug = widgets.Checkbox(\n",
    "           description='Running agent in debug mode? I.e. show a live representation?',\n",
    "           value=True\n",
    ")"
   ]
  },
  {
   "cell_type": "code",
   "execution_count": 4,
   "id": "8514e88e-997a-4a0e-a471-cb516b048890",
   "metadata": {},
   "outputs": [],
   "source": [
    "unexplored_resolution = widgets.FloatText(\n",
    "    value=1,\n",
    "    description='Resolution of the unexplored octree:',\n",
    "    disabled=False\n",
    ")\n",
    "covered_resolution = widgets.FloatText(\n",
    "    value=1,\n",
    "    description='Resolution of the covered octree:',\n",
    "    disabled=False\n",
    ")\n",
    "collision_resolution = widgets.FloatText(\n",
    "    value=.25,\n",
    "    description='Resolution of the collision octree:',\n",
    "    disabled=False\n",
    ")"
   ]
  },
  {
   "cell_type": "code",
   "execution_count": 5,
   "id": "85b54a01",
   "metadata": {},
   "outputs": [
    {
     "data": {
      "application/vnd.jupyter.widget-view+json": {
       "model_id": "293c2bc1e53d4b7d87b8c3c7122c448e",
       "version_major": 2,
       "version_minor": 0
      },
      "text/plain": [
       "Checkbox(value=True, description='Running agent headless? I.e. show the HoloOcean simulator?')"
      ]
     },
     "metadata": {},
     "output_type": "display_data"
    }
   ],
   "source": [
    "headless"
   ]
  },
  {
   "cell_type": "code",
   "execution_count": 6,
   "id": "5251ed6d-060e-40f2-9d62-8e89afcfe5a6",
   "metadata": {},
   "outputs": [
    {
     "data": {
      "application/vnd.jupyter.widget-view+json": {
       "model_id": "9c79b19610dc468d9dbad70f5ca1bd2c",
       "version_major": 2,
       "version_minor": 0
      },
      "text/plain": [
       "Checkbox(value=True, description='Running agent in debug mode? I.e. show a live representation?')"
      ]
     },
     "metadata": {},
     "output_type": "display_data"
    }
   ],
   "source": [
    "debug"
   ]
  },
  {
   "cell_type": "code",
   "execution_count": 7,
   "id": "829e0324-25ec-4a6b-8475-86ff1da30d9a",
   "metadata": {},
   "outputs": [
    {
     "data": {
      "application/vnd.jupyter.widget-view+json": {
       "model_id": "aa5720ecbaea4bd79da600792b5b700f",
       "version_major": 2,
       "version_minor": 0
      },
      "text/plain": [
       "FloatText(value=1.0, description='Resolution of the unexplored octree:')"
      ]
     },
     "metadata": {},
     "output_type": "display_data"
    }
   ],
   "source": [
    "unexplored_resolution"
   ]
  },
  {
   "cell_type": "code",
   "execution_count": 8,
   "id": "67429fef-9554-4613-8245-2b7f70f7612f",
   "metadata": {},
   "outputs": [
    {
     "data": {
      "application/vnd.jupyter.widget-view+json": {
       "model_id": "f18f6a4c09b74411893213d317cbe756",
       "version_major": 2,
       "version_minor": 0
      },
      "text/plain": [
       "FloatText(value=1.0, description='Resolution of the covered octree:')"
      ]
     },
     "metadata": {},
     "output_type": "display_data"
    }
   ],
   "source": [
    "covered_resolution"
   ]
  },
  {
   "cell_type": "code",
   "execution_count": 9,
   "id": "df1ab5b2-cca3-498f-937f-a5648abcfecf",
   "metadata": {},
   "outputs": [
    {
     "data": {
      "application/vnd.jupyter.widget-view+json": {
       "model_id": "301e9a1ff4f0459abb485f1edc2d055a",
       "version_major": 2,
       "version_minor": 0
      },
      "text/plain": [
       "FloatText(value=0.25, description='Resolution of the collision octree:')"
      ]
     },
     "metadata": {},
     "output_type": "display_data"
    }
   ],
   "source": [
    "collision_resolution"
   ]
  },
  {
   "cell_type": "code",
   "execution_count": 10,
   "id": "1b4e70c8-246a-424f-92fe-d94d2ebec752",
   "metadata": {},
   "outputs": [
    {
     "name": "stdout",
     "output_type": "stream",
     "text": [
      "0.25\n"
     ]
    }
   ],
   "source": [
    "print(collision_resolution.value)"
   ]
  },
  {
   "cell_type": "code",
   "execution_count": 11,
   "id": "0dbdd1b1-554c-4026-ab95-ee10b1ac72cb",
   "metadata": {},
   "outputs": [],
   "source": [
    "with open(\"./config.json\", 'r') as f:\n",
    "    cfg = json.load(f)"
   ]
  },
  {
   "cell_type": "code",
   "execution_count": 12,
   "id": "2fd9b66d",
   "metadata": {},
   "outputs": [],
   "source": [
    "agent = Agent(cfg, headless.value, debug.value, ((collision_resolution.value,collision_resolution.value,collision_resolution.value),\n",
    "                                     (covered_resolution.value,covered_resolution.value,covered_resolution.value),(unexplored_resolution.value,unexplored_resolution.value,unexplored_resolution.value)))"
   ]
  },
  {
   "cell_type": "code",
   "execution_count": 13,
   "id": "2c4f294b",
   "metadata": {},
   "outputs": [],
   "source": [
    "agent.init_holoocean(cfg)"
   ]
  },
  {
   "cell_type": "code",
   "execution_count": 14,
   "id": "7ee3537a",
   "metadata": {},
   "outputs": [
    {
     "name": "stdout",
     "output_type": "stream",
     "text": [
      "Iteration 1"
     ]
    },
    {
     "data": {
      "application/vnd.jupyter.widget-view+json": {
       "model_id": "6a4af989d1bb4551b1cda01fccbec104",
       "version_major": 2,
       "version_minor": 0
      },
      "text/plain": [
       "FigureWidget({\n",
       "    'data': [{'marker': {'color': 'black', 'size': 2},\n",
       "              'mode': 'markers',\n",
       "       …"
      ]
     },
     "metadata": {},
     "output_type": "display_data"
    },
    {
     "data": {
      "application/vnd.jupyter.widget-view+json": {
       "model_id": "e3b417ed067e4caa85c0f42236e0176f",
       "version_major": 2,
       "version_minor": 0
      },
      "text/plain": [
       "FigureWidget({\n",
       "    'data': [{'marker': {'color': 'black', 'size': 2},\n",
       "              'mode': 'markers',\n",
       "       …"
      ]
     },
     "metadata": {},
     "output_type": "display_data"
    },
    {
     "data": {
      "application/vnd.jupyter.widget-view+json": {
       "model_id": "51370ddf40854c68a8b0733e24f245fc",
       "version_major": 2,
       "version_minor": 0
      },
      "text/plain": [
       "FigureWidget({\n",
       "    'data': [{'marker': {'color': 'black', 'size': 2},\n",
       "              'mode': 'markers',\n",
       "       …"
      ]
     },
     "metadata": {},
     "output_type": "display_data"
    },
    {
     "name": "stdout",
     "output_type": "stream",
     "text": [
      "Iteration 649"
     ]
    },
    {
     "ename": "KeyboardInterrupt",
     "evalue": "",
     "output_type": "error",
     "traceback": [
      "\u001b[0;31m---------------------------------------------------------------------------\u001b[0m",
      "\u001b[0;31mKeyboardInterrupt\u001b[0m                         Traceback (most recent call last)",
      "Input \u001b[0;32mIn [14]\u001b[0m, in \u001b[0;36m<cell line: 1>\u001b[0;34m()\u001b[0m\n\u001b[0;32m----> 1\u001b[0m \u001b[43magent\u001b[49m\u001b[38;5;241;43m.\u001b[39;49m\u001b[43mrun\u001b[49m\u001b[43m(\u001b[49m\u001b[38;5;241;43m-\u001b[39;49m\u001b[38;5;241;43m1\u001b[39;49m\u001b[43m)\u001b[49m\n",
      "File \u001b[0;32m~/Documents/Uni/G05_RL4UWR/40_Realisation/10_Prototype_1/src/Agent.py:522\u001b[0m, in \u001b[0;36mAgent.run\u001b[0;34m(self, duration, simulation_ticks)\u001b[0m\n\u001b[1;32m    519\u001b[0m action \u001b[38;5;241m+\u001b[39m\u001b[38;5;241m=\u001b[39m \u001b[38;5;28mself\u001b[39m\u001b[38;5;241m.\u001b[39m_go_to_depth(\u001b[38;5;28mself\u001b[39m\u001b[38;5;241m.\u001b[39mpath[\u001b[38;5;241m-\u001b[39m\u001b[38;5;241m1\u001b[39m][\u001b[38;5;241m2\u001b[39m])[\u001b[38;5;241m0\u001b[39m]\n\u001b[1;32m    520\u001b[0m action \u001b[38;5;241m+\u001b[39m\u001b[38;5;241m=\u001b[39m \u001b[38;5;28mself\u001b[39m\u001b[38;5;241m.\u001b[39m_go_to_coordinate(dist)\n\u001b[0;32m--> 522\u001b[0m \u001b[38;5;28;43mself\u001b[39;49m\u001b[38;5;241;43m.\u001b[39;49m\u001b[43m_act\u001b[49m\u001b[43m(\u001b[49m\u001b[43msimulation_ticks\u001b[49m\u001b[43m,\u001b[49m\u001b[43m \u001b[49m\u001b[43maction\u001b[49m\u001b[43m,\u001b[49m\u001b[43m \u001b[49m\u001b[43mboundary_relativ_front\u001b[49m\u001b[43m,\u001b[49m\u001b[43m \u001b[49m\u001b[43mboundary_relativ_depth\u001b[49m\u001b[43m,\u001b[49m\u001b[43m \u001b[49m\u001b[43mz_rel_uncovered\u001b[49m\u001b[43m,\u001b[49m\u001b[43m \u001b[49m\u001b[43my_rel_covered\u001b[49m\u001b[43m,\u001b[49m\u001b[43m \u001b[49m\u001b[43my_rel_uncovered\u001b[49m\u001b[43m,\u001b[49m\u001b[43m \u001b[49m\u001b[43mi\u001b[49m\u001b[43m)\u001b[49m\n",
      "File \u001b[0;32m~/Documents/Uni/G05_RL4UWR/40_Realisation/10_Prototype_1/src/Agent.py:604\u001b[0m, in \u001b[0;36mAgent._act\u001b[0;34m(self, num_ticks, action, boundary_relativ_front, boundary_relativ_depth, z_rel_uncovered, y_rel_covered, y_rel_uncovered, iteration_number)\u001b[0m\n\u001b[1;32m    602\u001b[0m                 coords \u001b[38;5;241m=\u001b[39m [(np\u001b[38;5;241m.\u001b[39mcos(np\u001b[38;5;241m.\u001b[39mradians(\u001b[38;5;28mself\u001b[39m\u001b[38;5;241m.\u001b[39mrob_rot[\u001b[38;5;241m2\u001b[39m]))\u001b[38;5;241m*\u001b[39mpos[\u001b[38;5;241m1\u001b[39m] \u001b[38;5;241m-\u001b[39m np\u001b[38;5;241m.\u001b[39msin(np\u001b[38;5;241m.\u001b[39mradians(\u001b[38;5;28mself\u001b[39m\u001b[38;5;241m.\u001b[39mrob_rot[\u001b[38;5;241m2\u001b[39m]))\u001b[38;5;241m*\u001b[39mpos[\u001b[38;5;241m0\u001b[39m], np\u001b[38;5;241m.\u001b[39msin(np\u001b[38;5;241m.\u001b[39mradians(\u001b[38;5;28mself\u001b[39m\u001b[38;5;241m.\u001b[39mrob_rot[\u001b[38;5;241m2\u001b[39m]))\u001b[38;5;241m*\u001b[39mpos[\u001b[38;5;241m1\u001b[39m] \u001b[38;5;241m+\u001b[39m np\u001b[38;5;241m.\u001b[39mcos(np\u001b[38;5;241m.\u001b[39mradians(\u001b[38;5;28mself\u001b[39m\u001b[38;5;241m.\u001b[39mrob_rot[\u001b[38;5;241m2\u001b[39m]))\u001b[38;5;241m*\u001b[39mpos[\u001b[38;5;241m0\u001b[39m] , pos[\u001b[38;5;241m2\u001b[39m]) \u001b[38;5;28;01mfor\u001b[39;00m pos \u001b[38;5;129;01min\u001b[39;00m coords]\n\u001b[1;32m    603\u001b[0m \u001b[38;5;66;03m#                self.map.update_depth_scan(coords)\u001b[39;00m\n\u001b[0;32m--> 604\u001b[0m                 \u001b[38;5;28;43mself\u001b[39;49m\u001b[38;5;241;43m.\u001b[39;49m\u001b[43mmap\u001b[49m\u001b[38;5;241;43m.\u001b[39;49m\u001b[43mupdate_collision_points\u001b[49m\u001b[43m(\u001b[49m\u001b[43mcoords\u001b[49m\u001b[43m,\u001b[49m\u001b[43m \u001b[49m\u001b[43m(\u001b[49m\u001b[43mboundary_relativ_depth\u001b[49m\u001b[43m \u001b[49m\u001b[38;5;241;43m+\u001b[39;49m\u001b[43m \u001b[49m\u001b[43mboundary_robot\u001b[49m\u001b[43m)\u001b[49m\u001b[38;5;241;43m*\u001b[39;49m\u001b[38;5;28;43mself\u001b[39;49m\u001b[38;5;241;43m.\u001b[39;49m\u001b[43mrob_rot\u001b[49m\u001b[43m)\u001b[49m\n\u001b[1;32m    605\u001b[0m         \u001b[38;5;28;01mif\u001b[39;00m \u001b[38;5;28mself\u001b[39m\u001b[38;5;241m.\u001b[39mdebug:\n\u001b[1;32m    606\u001b[0m             \u001b[38;5;28mself\u001b[39m\u001b[38;5;241m.\u001b[39m_realtime_debug()\n",
      "File \u001b[0;32m~/Documents/Uni/G05_RL4UWR/40_Realisation/10_Prototype_1/src/Mapping/EnvironmentMap.py:59\u001b[0m, in \u001b[0;36mEnvironmentMap.update_collision_points\u001b[0;34m(self, pointcloud, boundary)\u001b[0m\n\u001b[1;32m     52\u001b[0m collision_points \u001b[38;5;241m=\u001b[39m \u001b[38;5;28mself\u001b[39m\u001b[38;5;241m.\u001b[39m_generate_new_quadtree(\n\u001b[1;32m     53\u001b[0m     \u001b[38;5;28mself\u001b[39m\u001b[38;5;241m.\u001b[39mcollision_points\u001b[38;5;241m.\u001b[39mget_boundary()\u001b[38;5;241m.\u001b[39mget_bounding_box(), \n\u001b[1;32m     54\u001b[0m     boundary\u001b[38;5;241m.\u001b[39mget_bounding_box(), \n\u001b[1;32m     55\u001b[0m     \u001b[38;5;28mself\u001b[39m\u001b[38;5;241m.\u001b[39mcollision_points\u001b[38;5;241m.\u001b[39mget_resolution()\n\u001b[1;32m     56\u001b[0m )\n\u001b[1;32m     58\u001b[0m \u001b[38;5;28;01mfor\u001b[39;00m point \u001b[38;5;129;01min\u001b[39;00m points:\n\u001b[0;32m---> 59\u001b[0m     \u001b[43mcollision_points\u001b[49m\u001b[38;5;241;43m.\u001b[39;49m\u001b[43minsert\u001b[49m\u001b[43m(\u001b[49m\u001b[43mpoint\u001b[49m\u001b[43m)\u001b[49m\n\u001b[1;32m     61\u001b[0m min_x \u001b[38;5;241m=\u001b[39m collision_points\u001b[38;5;241m.\u001b[39mget_boundary()\u001b[38;5;241m.\u001b[39mget_bounding_box()[\u001b[38;5;241m0\u001b[39m][\u001b[38;5;241m0\u001b[39m] \u001b[38;5;28;01mif\u001b[39;00m \u001b[38;5;28mself\u001b[39m\u001b[38;5;241m.\u001b[39mboundary\u001b[38;5;241m.\u001b[39mget_bounding_box()[\u001b[38;5;241m0\u001b[39m][\u001b[38;5;241m0\u001b[39m] \u001b[38;5;241m>\u001b[39m collision_points\u001b[38;5;241m.\u001b[39mget_boundary()\u001b[38;5;241m.\u001b[39mget_bounding_box()[\u001b[38;5;241m0\u001b[39m][\u001b[38;5;241m0\u001b[39m] \u001b[38;5;28;01melse\u001b[39;00m \u001b[38;5;28mself\u001b[39m\u001b[38;5;241m.\u001b[39mboundary\u001b[38;5;241m.\u001b[39mget_bounding_box()[\u001b[38;5;241m0\u001b[39m][\u001b[38;5;241m0\u001b[39m]\n\u001b[1;32m     62\u001b[0m min_y \u001b[38;5;241m=\u001b[39m collision_points\u001b[38;5;241m.\u001b[39mget_boundary()\u001b[38;5;241m.\u001b[39mget_bounding_box()[\u001b[38;5;241m0\u001b[39m][\u001b[38;5;241m1\u001b[39m] \u001b[38;5;28;01mif\u001b[39;00m \u001b[38;5;28mself\u001b[39m\u001b[38;5;241m.\u001b[39mboundary\u001b[38;5;241m.\u001b[39mget_bounding_box()[\u001b[38;5;241m0\u001b[39m][\u001b[38;5;241m1\u001b[39m] \u001b[38;5;241m>\u001b[39m collision_points\u001b[38;5;241m.\u001b[39mget_boundary()\u001b[38;5;241m.\u001b[39mget_bounding_box()[\u001b[38;5;241m0\u001b[39m][\u001b[38;5;241m1\u001b[39m] \u001b[38;5;28;01melse\u001b[39;00m \u001b[38;5;28mself\u001b[39m\u001b[38;5;241m.\u001b[39mboundary\u001b[38;5;241m.\u001b[39mget_bounding_box()[\u001b[38;5;241m0\u001b[39m][\u001b[38;5;241m1\u001b[39m]\n",
      "File \u001b[0;32m~/Documents/Uni/G05_RL4UWR/40_Realisation/10_Prototype_1/src/Mapping/Octree.py:109\u001b[0m, in \u001b[0;36mOctree.insert\u001b[0;34m(self, cell)\u001b[0m\n\u001b[1;32m    106\u001b[0m     \u001b[38;5;28mself\u001b[39m\u001b[38;5;241m.\u001b[39m_divide()\n\u001b[1;32m    108\u001b[0m \u001b[38;5;28;01mfor\u001b[39;00m child \u001b[38;5;129;01min\u001b[39;00m \u001b[38;5;28mself\u001b[39m\u001b[38;5;241m.\u001b[39m_children:\n\u001b[0;32m--> 109\u001b[0m     \u001b[38;5;28;01mif\u001b[39;00m \u001b[43mchild\u001b[49m\u001b[38;5;241;43m.\u001b[39;49m\u001b[43minsert\u001b[49m\u001b[43m(\u001b[49m\u001b[43mcell\u001b[49m\u001b[43m)\u001b[49m:\n\u001b[1;32m    110\u001b[0m         \u001b[38;5;28;01mreturn\u001b[39;00m \u001b[38;5;28;01mTrue\u001b[39;00m\n\u001b[1;32m    112\u001b[0m \u001b[38;5;28;01mreturn\u001b[39;00m \u001b[38;5;28;01mFalse\u001b[39;00m\n",
      "File \u001b[0;32m~/Documents/Uni/G05_RL4UWR/40_Realisation/10_Prototype_1/src/Mapping/Octree.py:109\u001b[0m, in \u001b[0;36mOctree.insert\u001b[0;34m(self, cell)\u001b[0m\n\u001b[1;32m    106\u001b[0m     \u001b[38;5;28mself\u001b[39m\u001b[38;5;241m.\u001b[39m_divide()\n\u001b[1;32m    108\u001b[0m \u001b[38;5;28;01mfor\u001b[39;00m child \u001b[38;5;129;01min\u001b[39;00m \u001b[38;5;28mself\u001b[39m\u001b[38;5;241m.\u001b[39m_children:\n\u001b[0;32m--> 109\u001b[0m     \u001b[38;5;28;01mif\u001b[39;00m \u001b[43mchild\u001b[49m\u001b[38;5;241;43m.\u001b[39;49m\u001b[43minsert\u001b[49m\u001b[43m(\u001b[49m\u001b[43mcell\u001b[49m\u001b[43m)\u001b[49m:\n\u001b[1;32m    110\u001b[0m         \u001b[38;5;28;01mreturn\u001b[39;00m \u001b[38;5;28;01mTrue\u001b[39;00m\n\u001b[1;32m    112\u001b[0m \u001b[38;5;28;01mreturn\u001b[39;00m \u001b[38;5;28;01mFalse\u001b[39;00m\n",
      "File \u001b[0;32m~/Documents/Uni/G05_RL4UWR/40_Realisation/10_Prototype_1/src/Mapping/Octree.py:96\u001b[0m, in \u001b[0;36mOctree.insert\u001b[0;34m(self, cell)\u001b[0m\n\u001b[1;32m     88\u001b[0m \u001b[38;5;28;01mdef\u001b[39;00m \u001b[38;5;21minsert\u001b[39m(\u001b[38;5;28mself\u001b[39m, cell: Cell):\n\u001b[1;32m     89\u001b[0m     \u001b[38;5;124;03m\"\"\"Inserts a cell into the octree. Divides the octree if there is already a cell and the cell isn't in the near of the cell to be inserted.\u001b[39;00m\n\u001b[1;32m     90\u001b[0m \n\u001b[1;32m     91\u001b[0m \u001b[38;5;124;03m    :param cell: The cell to insert.\u001b[39;00m\n\u001b[0;32m   (...)\u001b[0m\n\u001b[1;32m     94\u001b[0m \u001b[38;5;124;03m    :rtype: Bool\u001b[39;00m\n\u001b[1;32m     95\u001b[0m \u001b[38;5;124;03m    \"\"\"\u001b[39;00m\n\u001b[0;32m---> 96\u001b[0m     \u001b[38;5;28;01mif\u001b[39;00m \u001b[38;5;129;01mnot\u001b[39;00m \u001b[38;5;28;43mself\u001b[39;49m\u001b[38;5;241;43m.\u001b[39;49m\u001b[43m_boundary\u001b[49m\u001b[38;5;241;43m.\u001b[39;49m\u001b[43mcontains_cell\u001b[49m(cell):\n\u001b[1;32m     97\u001b[0m         \u001b[38;5;28;01mreturn\u001b[39;00m \u001b[38;5;28;01mFalse\u001b[39;00m\n\u001b[1;32m     98\u001b[0m     \u001b[38;5;28;01mif\u001b[39;00m \u001b[38;5;28mself\u001b[39m\u001b[38;5;241m.\u001b[39m_cell \u001b[38;5;129;01mis\u001b[39;00m \u001b[38;5;28;01mNone\u001b[39;00m \u001b[38;5;129;01mand\u001b[39;00m \u001b[38;5;28mself\u001b[39m\u001b[38;5;241m.\u001b[39m_children[\u001b[38;5;241m0\u001b[39m] \u001b[38;5;129;01mis\u001b[39;00m \u001b[38;5;28;01mNone\u001b[39;00m:\n",
      "\u001b[0;31mKeyboardInterrupt\u001b[0m: "
     ]
    }
   ],
   "source": [
    "agent.run(-1)collision_points"
   ]
  },
  {
   "cell_type": "code",
   "execution_count": 15,
   "id": "19c0f590-1793-466e-aff8-4d7232a591f6",
   "metadata": {},
   "outputs": [],
   "source": [
    "vis = Visualizer(octree=agent.map.collision_points)"
   ]
  },
  {
   "cell_type": "code",
   "execution_count": 17,
   "id": "a0e2230d-5f81-4ef7-aabc-be34d3b9cad5",
   "metadata": {},
   "outputs": [],
   "source": [
    "scatter = vis.draw_pointcloud_plotly()"
   ]
  },
  {
   "cell_type": "code",
   "execution_count": 18,
   "id": "2fc5e8a7-ad38-4b57-b9bf-437148bb80e3",
   "metadata": {},
   "outputs": [],
   "source": [
    "voxel = vis.draw_voxel_plotly()"
   ]
  },
  {
   "cell_type": "code",
   "execution_count": 19,
   "id": "5b3aa2f8-a83b-4d61-906f-e3f61e5bc466",
   "metadata": {},
   "outputs": [],
   "source": [
    "import main"
   ]
  },
  {
   "cell_type": "code",
   "execution_count": 20,
   "id": "9491466d-51b3-4331-8087-752722b6d5fa",
   "metadata": {},
   "outputs": [],
   "source": [
    "main.save_map(agent.map, \"../data/map.pickle\")"
   ]
  },
  {
   "cell_type": "code",
   "execution_count": 21,
   "id": "b3d2146c-2f5d-4ad8-befc-1135578f19b0",
   "metadata": {},
   "outputs": [],
   "source": [
    "main.save_octree(agent.map.collision_points, \"../data/octree.pickle\")"
   ]
  },
  {
   "cell_type": "code",
   "execution_count": 22,
   "id": "d269d3d5-129a-4f3f-aeab-b9c58f850942",
   "metadata": {},
   "outputs": [],
   "source": [
    "main.save_pointcloud(agent.map.collision_points, \"../data/pointcloud.xyz\")"
   ]
  },
  {
   "cell_type": "code",
   "execution_count": null,
   "id": "18011f25-26dc-4338-9c54-8c65e4815f6f",
   "metadata": {},
   "outputs": [],
   "source": [
    "main.save_voxels(agent.map.collision_points, \"../data/voxels.bbox\")"
   ]
  },
  {
   "cell_type": "code",
   "execution_count": 23,
   "id": "74f3924f-3091-44a8-9985-56a7d874efd9",
   "metadata": {},
   "outputs": [],
   "source": [
    "scatter.write_html(\"../data/figs/scatter.html\")"
   ]
  },
  {
   "cell_type": "code",
   "execution_count": 24,
   "id": "92e7910d-3c5f-455b-b66c-7e1e12986b26",
   "metadata": {},
   "outputs": [],
   "source": [
    "voxel.write_html(\"../data/figs/voxel.html\")"
   ]
  },
  {
   "cell_type": "code",
   "execution_count": null,
   "id": "4a95a6e4-aef8-4252-a141-5cf70556977e",
   "metadata": {},
   "outputs": [],
   "source": []
  }
 ],
 "metadata": {
  "kernelspec": {
   "display_name": "AI3ANN",
   "language": "python",
   "name": "ai3ann"
  },
  "language_info": {
   "codemirror_mode": {
    "name": "ipython",
    "version": 3
   },
   "file_extension": ".py",
   "mimetype": "text/x-python",
   "name": "python",
   "nbconvert_exporter": "python",
   "pygments_lexer": "ipython3",
   "version": "3.9.6"
  },
  "vscode": {
   "interpreter": {
    "hash": "d8a8997fbaec6c70cbd0c96db0b6ebb47dabae7244bc46bf6c6c90c52ce5ad2e"
   }
  }
 },
 "nbformat": 4,
 "nbformat_minor": 5
}
