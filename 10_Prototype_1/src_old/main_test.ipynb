{
 "cells": [
  {
   "cell_type": "code",
   "execution_count": 96,
   "metadata": {},
   "outputs": [],
   "source": [
    "from Mapping.Cell import *\n",
    "from Mapping.QuadTree import Quadtree\n",
    "from Mapping.BoundingBox import BoundingBox\n",
    "from Mapping.EnvironmentMap import EnvironmentMap"
   ]
  },
  {
   "cell_type": "code",
   "execution_count": 97,
   "metadata": {},
   "outputs": [],
   "source": [
    "from random import random"
   ]
  },
  {
   "cell_type": "code",
   "execution_count": 98,
   "metadata": {},
   "outputs": [],
   "source": [
    "env = EnvironmentMap((1,1), (1,1), (1,1))"
   ]
  },
  {
   "cell_type": "code",
   "execution_count": 99,
   "metadata": {},
   "outputs": [],
   "source": [
    "size = 50"
   ]
  },
  {
   "cell_type": "code",
   "execution_count": 100,
   "metadata": {},
   "outputs": [],
   "source": [
    "cov = [(size * random(),size * random()) for _ in range(0)]\n",
    "coll = [(size * random(),size * random()) for _ in range(1)]\n",
    "unex = [(size * random(),size * random()) for _ in range(100)]"
   ]
  },
  {
   "cell_type": "code",
   "execution_count": 101,
   "metadata": {},
   "outputs": [],
   "source": [
    "env.update_collision_points(coll, BoundingBox((0,0), (size, size)))\n",
    "env.update_covered_points(cov, BoundingBox((0,0), (size, size)))\n",
    "env.update_unexplored_points(unex, BoundingBox((0,0), (size, size)))"
   ]
  },
  {
   "cell_type": "code",
   "execution_count": 102,
   "metadata": {},
   "outputs": [
    {
     "name": "stdout",
     "output_type": "stream",
     "text": [
      "1\n",
      "0\n",
      "95\n"
     ]
    }
   ],
   "source": [
    "print(len(env.collision_points))\n",
    "print(len(env.covered_points))\n",
    "print(len(env.unexplored_points))"
   ]
  },
  {
   "cell_type": "code",
   "execution_count": 103,
   "metadata": {},
   "outputs": [
    {
     "data": {
      "text/plain": [
       "Cell(x=39.36836017442528, y=42.99440839439488, label=<CellLabel.COLLISION: 2>)"
      ]
     },
     "execution_count": 103,
     "metadata": {},
     "output_type": "execute_result"
    }
   ],
   "source": [
    "env.collision_points.find_nearest_neighbour(Cell(3,4,CellLabel.COLLISION))"
   ]
  },
  {
   "cell_type": "code",
   "execution_count": 104,
   "metadata": {},
   "outputs": [
    {
     "data": {
      "text/plain": [
       "[]"
      ]
     },
     "execution_count": 104,
     "metadata": {},
     "output_type": "execute_result"
    }
   ],
   "source": [
    "env.collision_points.find_cells(BoundingBox((1,1), (4,4)))"
   ]
  },
  {
   "cell_type": "code",
   "execution_count": 105,
   "metadata": {},
   "outputs": [
    {
     "ename": "AttributeError",
     "evalue": "'NoneType' object has no attribute 'x'",
     "output_type": "error",
     "traceback": [
      "\u001b[0;31m---------------------------------------------------------------------------\u001b[0m",
      "\u001b[0;31mAttributeError\u001b[0m                            Traceback (most recent call last)",
      "\u001b[1;32m/Users/nicotrebbin/Documents/Uni/NEidI/G05_RL4UWR/40_Realisation/10_Prototype_1/src/main.ipynb Cell 10'\u001b[0m in \u001b[0;36m<cell line: 1>\u001b[0;34m()\u001b[0m\n\u001b[0;32m----> <a href='vscode-notebook-cell:/Users/nicotrebbin/Documents/Uni/NEidI/G05_RL4UWR/40_Realisation/10_Prototype_1/src/main.ipynb#ch0000009?line=0'>1</a>\u001b[0m a \u001b[39m=\u001b[39m env\u001b[39m.\u001b[39;49mgenerate_path(\u001b[39m1.\u001b[39;49m, \u001b[39m1.\u001b[39;49m)\n",
      "File \u001b[0;32m~/Documents/Uni/NEidI/G05_RL4UWR/40_Realisation/10_Prototype_1/src/Mapping/EnvironmentMap.py:106\u001b[0m, in \u001b[0;36mEnvironmentMap.generate_path\u001b[0;34m(self, robot_coordinates_x, robot_coordinates_y)\u001b[0m\n\u001b[1;32m    103\u001b[0m start \u001b[39m=\u001b[39m Cell(robot_coordinates_x, robot_coordinates_y, \u001b[39m0\u001b[39m)\n\u001b[1;32m    104\u001b[0m goal \u001b[39m=\u001b[39m \u001b[39mself\u001b[39m\u001b[39m.\u001b[39munexplored_points\u001b[39m.\u001b[39mfind_nearest_neighbour(start)\n\u001b[0;32m--> 106\u001b[0m path \u001b[39m=\u001b[39m \u001b[39mself\u001b[39;49m\u001b[39m.\u001b[39;49m_path_planning\u001b[39m.\u001b[39;49mgenerate_path(start, goal, \u001b[39mself\u001b[39;49m\u001b[39m.\u001b[39;49mcollision_points)\n\u001b[1;32m    108\u001b[0m \u001b[39mreturn\u001b[39;00m path\n",
      "File \u001b[0;32m~/Documents/Uni/NEidI/G05_RL4UWR/40_Realisation/10_Prototype_1/src/Mapping/PathPlanning.py:34\u001b[0m, in \u001b[0;36mRRT.generate_path\u001b[0;34m(self, start, goal, obstacles)\u001b[0m\n\u001b[1;32m     32\u001b[0m \u001b[39mdef\u001b[39;00m \u001b[39mgenerate_path\u001b[39m(\u001b[39mself\u001b[39m, start : Cell, goal : Cell, obstacles : Quadtree):\n\u001b[1;32m     33\u001b[0m     \u001b[39mself\u001b[39m\u001b[39m.\u001b[39mstart \u001b[39m=\u001b[39m Node(start\u001b[39m.\u001b[39mx, start\u001b[39m.\u001b[39my, start\u001b[39m.\u001b[39mlabel)\n\u001b[0;32m---> 34\u001b[0m     \u001b[39mself\u001b[39m\u001b[39m.\u001b[39mgoal \u001b[39m=\u001b[39m Node(goal\u001b[39m.\u001b[39;49mx, goal\u001b[39m.\u001b[39my, goal\u001b[39m.\u001b[39mlabel)\n\u001b[1;32m     36\u001b[0m     \u001b[39mself\u001b[39m\u001b[39m.\u001b[39mobstacles \u001b[39m=\u001b[39m obstacles\n\u001b[1;32m     37\u001b[0m     \u001b[39mself\u001b[39m\u001b[39m.\u001b[39mnodes\u001b[39m.\u001b[39mappend(\u001b[39mself\u001b[39m\u001b[39m.\u001b[39mstart)\n",
      "\u001b[0;31mAttributeError\u001b[0m: 'NoneType' object has no attribute 'x'"
     ]
    }
   ],
   "source": [
    "a = env.generate_path(1., 1.)"
   ]
  },
  {
   "cell_type": "code",
   "execution_count": null,
   "metadata": {},
   "outputs": [
    {
     "name": "stdout",
     "output_type": "stream",
     "text": [
      "[(3.3029264801406777, 0.8890896713992624), (3.2473951562942323, 0.8917640934568294), (2.997684583372651, 0.9037903052949594), (2.7479740104510695, 0.9158165171330895), (2.4982634375294888, 0.9278427289712196), (2.248552864607907, 0.9398689408093497), (1.9988422916863255, 0.9518951526474797), (1.7491317187647444, 0.9639213644856097), (1.4994211458431628, 0.9759475763237399), (1.2497105729215814, 0.98797378816187), (1.0, 1.0)]\n"
     ]
    }
   ],
   "source": [
    "print(a)"
   ]
  },
  {
   "cell_type": "code",
   "execution_count": null,
   "metadata": {},
   "outputs": [
    {
     "data": {
      "text/plain": [
       "Node(x=1.0, y=1.0, label=0)"
      ]
     },
     "execution_count": 92,
     "metadata": {},
     "output_type": "execute_result"
    }
   ],
   "source": [
    "env._path_planning.start"
   ]
  },
  {
   "cell_type": "code",
   "execution_count": null,
   "metadata": {},
   "outputs": [
    {
     "data": {
      "text/plain": [
       "Node(x=3.3029264801406777, y=0.8890896713992624, label=<CellLabel.COLLISION: 2>)"
      ]
     },
     "execution_count": 93,
     "metadata": {},
     "output_type": "execute_result"
    }
   ],
   "source": [
    "env._path_planning.goal"
   ]
  },
  {
   "cell_type": "code",
   "execution_count": null,
   "metadata": {},
   "outputs": [],
   "source": [
    "t = env._path_planning.nodes"
   ]
  },
  {
   "cell_type": "code",
   "execution_count": null,
   "metadata": {},
   "outputs": [
    {
     "name": "stdout",
     "output_type": "stream",
     "text": [
      "Node(x=1.0, y=1.0, label=0):None\n",
      "Node(x=1.2497105729215814, y=0.98797378816187, label=0):Node(x=1.0, y=1.0, label=0)\n",
      "Node(x=1.4994211458431628, y=0.9759475763237399, label=0):Node(x=1.2497105729215814, y=0.98797378816187, label=0)\n",
      "Node(x=1.7491317187647444, y=0.9639213644856097, label=0):Node(x=1.4994211458431628, y=0.9759475763237399, label=0)\n",
      "Node(x=1.9988422916863255, y=0.9518951526474797, label=0):Node(x=1.7491317187647444, y=0.9639213644856097, label=0)\n",
      "Node(x=2.248552864607907, y=0.9398689408093497, label=0):Node(x=1.9988422916863255, y=0.9518951526474797, label=0)\n",
      "Node(x=2.4982634375294888, y=0.9278427289712196, label=0):Node(x=2.248552864607907, y=0.9398689408093497, label=0)\n",
      "Node(x=2.7479740104510695, y=0.9158165171330895, label=0):Node(x=2.4982634375294888, y=0.9278427289712196, label=0)\n",
      "Node(x=2.997684583372651, y=0.9037903052949594, label=0):Node(x=2.7479740104510695, y=0.9158165171330895, label=0)\n",
      "Node(x=3.2473951562942323, y=0.8917640934568294, label=0):Node(x=2.997684583372651, y=0.9037903052949594, label=0)\n",
      "Node(x=3.4971057292158134, y=0.8797378816186993, label=0):Node(x=3.2473951562942323, y=0.8917640934568294, label=0)\n"
     ]
    }
   ],
   "source": [
    "for node in t:\n",
    "    print(str(node) + \":\" + str(node.parent))"
   ]
  },
  {
   "cell_type": "code",
   "execution_count": null,
   "metadata": {},
   "outputs": [],
   "source": []
  }
 ],
 "metadata": {
  "kernelspec": {
   "display_name": "Python 3.9.12 ('AI3')",
   "language": "python",
   "name": "python3"
  },
  "language_info": {
   "codemirror_mode": {
    "name": "ipython",
    "version": 3
   },
   "file_extension": ".py",
   "mimetype": "text/x-python",
   "name": "python",
   "nbconvert_exporter": "python",
   "pygments_lexer": "ipython3",
   "version": "3.9.12"
  },
  "orig_nbformat": 4,
  "vscode": {
   "interpreter": {
    "hash": "d8a8997fbaec6c70cbd0c96db0b6ebb47dabae7244bc46bf6c6c90c52ce5ad2e"
   }
  }
 },
 "nbformat": 4,
 "nbformat_minor": 2
}
