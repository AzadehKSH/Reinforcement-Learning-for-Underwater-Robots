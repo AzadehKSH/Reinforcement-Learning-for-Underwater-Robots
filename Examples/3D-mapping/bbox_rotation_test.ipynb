{
 "cells": [
  {
   "cell_type": "code",
   "execution_count": 1,
   "id": "3d003a75-095a-47f4-a325-0a597935a4a8",
   "metadata": {},
   "outputs": [],
   "source": [
    "# fix front bbox rotation: currently no rotations possible thus whole front radius is used"
   ]
  },
  {
   "cell_type": "code",
   "execution_count": 2,
   "id": "7f4058ec-5121-437f-9bc7-274415ec499f",
   "metadata": {},
   "outputs": [],
   "source": [
    "import numpy as np\n",
    "from Mapping.BoundingBox import BoundingBox\n",
    "from Mapping.Cell import Cell\n",
    "import plotly.graph_objects as go\n",
    "import json\n",
    "import time"
   ]
  },
  {
   "cell_type": "code",
   "execution_count": 3,
   "id": "3dff45b5-734b-4ca6-b18c-9186e4135af8",
   "metadata": {},
   "outputs": [],
   "source": [
    "with open(\"./config.json\", 'r') as f:\n",
    "    config = json.load(f)"
   ]
  },
  {
   "cell_type": "code",
   "execution_count": 4,
   "id": "f7301480-fdb0-4f13-80e0-f79a61799c1c",
   "metadata": {},
   "outputs": [],
   "source": [
    "config_front = config['agents'][0]['sensors'][-2][\"configuration\"]\n",
    "config_depth = config['agents'][0]['sensors'][-1][\"configuration\"]\n",
    "theta_depth = np.linspace(-config_depth[\"Azimuth\"]/2, config_depth[\"Azimuth\"]/2, config_depth[\"AzimuthBins\"])*np.pi/180"
   ]
  },
  {
   "cell_type": "code",
   "execution_count": 5,
   "id": "fc557299-4b49-49da-b88d-a13aa0aae032",
   "metadata": {},
   "outputs": [],
   "source": [
    "front_ak = config_front['RangeMax'] / np.cos(np.deg2rad(config_front[\"Azimuth\"]/2.))\n",
    "boundary_relativ_front : BoundingBox = BoundingBox((-config_front['RangeMax'], -config_front['RangeMax'], 0), (config_front['RangeMax'], config_front['RangeMax'], 0)) # x,y. z is fixed\n",
    "\n",
    "z_tmp = np.cos(theta_depth)*config_depth['RangeMax']\n",
    "z_rel_uncovered = [z_tmp[0], z_tmp[-1]]\n",
    "z_rel_covered = z_tmp[1:-1]\n",
    "del z_tmp\n",
    "\n",
    "y_tmp = np.sin(theta_depth)*config_depth['RangeMax']\n",
    "y_rel_covered = y_tmp[1:-1]\n",
    "y_rel_uncovered = [y_tmp[0], y_tmp[-1]]\n",
    "del y_tmp\n",
    "\n",
    "x_rel_covered = np.sin(np.deg2rad(config_depth[\"Elevation\"]))*config_depth['RangeMax']\n",
    "depth_gk = z_rel_uncovered[0]\n",
    "depth_ak = y_rel_uncovered[-1]\n",
    "delta = 0.0\n",
    "boundary_relativ_depth : BoundingBox = BoundingBox((-x_rel_covered - delta, -depth_ak - delta, -config_depth['RangeMax'] - delta), (x_rel_covered + delta, depth_ak + delta, -config_depth['RangeMin'] + delta))\n",
    "theta_front = np.linspace(-config_front[\"Azimuth\"]/2, config_front[\"Azimuth\"]/2, config_front[\"AzimuthBins\"])*np.pi/180"
   ]
  },
  {
   "cell_type": "code",
   "execution_count": 6,
   "id": "816df108-cf7a-4ac5-b66c-a6a6a8be9d0c",
   "metadata": {},
   "outputs": [],
   "source": [
    "def _init_debug():\n",
    "        fig = go.FigureWidget()\n",
    "        fig.add_mesh3d(\n",
    "            i = [7, 0, 0, 0, 4, 4, 6, 6, 4, 0, 3, 2],\n",
    "            j = [3, 4, 1, 2, 5, 6, 5, 2, 0, 1, 6, 3],\n",
    "            k = [0, 7, 2, 3, 6, 7, 1, 1, 5, 5, 7, 6],\n",
    "            opacity=.4,\n",
    "            color='#DC143C',\n",
    "            flatshading = True,\n",
    "            showlegend=True,\n",
    "            name=\"bbox\"\n",
    "        )\n",
    "        \n",
    "        fig.add_scatter3d(\n",
    "            mode='markers',\n",
    "            marker=dict(\n",
    "                size=2,\n",
    "                color=\"black\"\n",
    "            ),\n",
    "            showlegend=True,\n",
    "            name=\"points\"\n",
    "        )\n",
    "        \n",
    "        fig.update_layout(\n",
    "            title=\"bbox debug\",\n",
    "            xaxis_title=\"y\",\n",
    "            yaxis_title=\"x\", #use same system as holoocean\n",
    "            scene = dict(\n",
    "                xaxis = dict(range=[-20,20]),\n",
    "                yaxis = dict(range=[-20,20]),\n",
    "                zaxis = dict(range=[-20,20]),\n",
    "            )\n",
    "        )\n",
    "        \n",
    "        return fig"
   ]
  },
  {
   "cell_type": "code",
   "execution_count": 7,
   "id": "139d6eb3-50d5-499b-ba4d-36a1a85edd01",
   "metadata": {},
   "outputs": [],
   "source": [
    "def _update_collision_debug(fig, bbox, points):        \n",
    "        with fig.batch_update():\n",
    "            x,y,z = zip(*points)\n",
    "            \n",
    "            fig.data[0].x = [bbox[0][0], bbox[0][0], bbox[1][0], bbox[1][0], bbox[0][0], bbox[0][0], bbox[1][0], bbox[1][0]]\n",
    "            fig.data[0].y = [bbox[0][1], bbox[1][1], bbox[1][1], bbox[0][1], bbox[0][1], bbox[1][1], bbox[1][1], bbox[0][1]]\n",
    "            fig.data[0].z = [bbox[0][2], bbox[0][2], bbox[0][2], bbox[0][2], bbox[1][2], bbox[1][2], bbox[1][2], bbox[1][2]]\n",
    "            \n",
    "            fig.data[1].x = x\n",
    "            fig.data[1].y = y\n",
    "            fig.data[1].z = z"
   ]
  },
  {
   "cell_type": "code",
   "execution_count": 8,
   "id": "8c8e3c8a-4cf2-4f09-a877-3367f620d776",
   "metadata": {},
   "outputs": [],
   "source": [
    "fig = _init_debug()"
   ]
  },
  {
   "cell_type": "code",
   "execution_count": 9,
   "id": "681108ad-87af-4a8d-bee1-9aedb081d004",
   "metadata": {},
   "outputs": [],
   "source": [
    "bbox = boundary_relativ_depth"
   ]
  },
  {
   "cell_type": "code",
   "execution_count": 10,
   "id": "1843acaa-4a7d-48de-8594-5bcc13127bf2",
   "metadata": {},
   "outputs": [],
   "source": [
    "rob_rot = [0,0,0]"
   ]
  },
  {
   "cell_type": "code",
   "execution_count": 11,
   "id": "205da047-e6a4-42b1-99ab-b2b5558cbd79",
   "metadata": {},
   "outputs": [],
   "source": [
    "explored_points = [(0, hyp*np.sin(theta), -hyp*np.cos(theta)) for hyp in np.arange(config_depth[\"RangeMin\"], config_depth['RangeMax'], 0.5) for theta in theta_depth[1:-1]]\n",
    "explored_points = [(np.cos(np.radians(rob_rot[2]))*pos[1] - np.sin(np.radians(rob_rot[2]))*pos[0], - np.sin(np.radians(rob_rot[2]))*pos[1] + np.cos(np.radians(rob_rot[2]))*pos[0] , pos[2]) for pos in explored_points]"
   ]
  },
  {
   "cell_type": "code",
   "execution_count": 12,
   "id": "67ff5496-6408-4382-b47a-ad436304ae74",
   "metadata": {},
   "outputs": [],
   "source": [
    "_update_collision_debug(fig, (bbox*rob_rot).get_bounding_box(), explored_points)"
   ]
  },
  {
   "cell_type": "code",
   "execution_count": 13,
   "id": "fc234679-ee22-4626-84f7-4e8e759ba278",
   "metadata": {},
   "outputs": [],
   "source": [
    "# rob_rot = [0,0,0]\n",
    "# while True:\n",
    "#     explored_points = [(0, hyp*np.sin(theta), -hyp*np.cos(theta)) for hyp in np.arange(config_depth[\"RangeMin\"], config_depth['RangeMax'], 0.5) for theta in theta_depth[1:-1]]\n",
    "#     explored_points = [(np.cos(np.radians(rob_rot[2]))*pos[1] - np.sin(np.radians(rob_rot[2]))*pos[0], np.sin(np.radians(rob_rot[2]))*pos[1] + np.cos(np.radians(rob_rot[2]))*pos[0] , pos[2]) for pos in explored_points]\n",
    "    \n",
    "#     rob_rot[2] += 5\n",
    "#     print(\"\\rWinkel: {}\".format(rob_rot[2]), end=\"\")\n",
    "#     _update_collision_debug(fig, (boundary_relativ_depth*rob_rot).get_bounding_box(), explored_points)\n",
    "#     time.sleep(.2)"
   ]
  },
  {
   "cell_type": "code",
   "execution_count": 14,
   "id": "2299de42-2733-4586-9fd9-f51fc32e35ae",
   "metadata": {},
   "outputs": [
    {
     "data": {
      "application/vnd.jupyter.widget-view+json": {
       "model_id": "069e83d7be4c42d194f594ae509f1c06",
       "version_major": 2,
       "version_minor": 0
      },
      "text/plain": [
       "FigureWidget({\n",
       "    'data': [{'color': '#DC143C',\n",
       "              'flatshading': True,\n",
       "              'i': [7, 0, …"
      ]
     },
     "metadata": {},
     "output_type": "display_data"
    }
   ],
   "source": [
    "fig"
   ]
  },
  {
   "cell_type": "code",
   "execution_count": 15,
   "id": "e3c7ece7-b94b-41c1-bbed-dbc0bd734b46",
   "metadata": {},
   "outputs": [],
   "source": [
    "bbox = boundary_relativ_front"
   ]
  },
  {
   "cell_type": "code",
   "execution_count": 16,
   "id": "9811ea43-3184-4d22-971d-999e0aa96e81",
   "metadata": {},
   "outputs": [],
   "source": [
    "triangle_depth_side = [(0, hyp*np.sin(theta), -hyp*np.cos(theta)) for hyp in np.arange(config_depth[\"RangeMin\"],config_depth['RangeMax'], 0.5) for theta in [theta_depth[0], theta_depth[-1]]]\n",
    "triangle_depth_bottom = [(0, y, -z_rel_uncovered[0]) for y in np.append(y_rel_covered, y_rel_uncovered)]\n",
    "\n",
    "unex_depth = triangle_depth_bottom + triangle_depth_side\n",
    "unex_front = [(hyp*np.cos(theta), -hyp*np.sin(theta), 0) for hyp in np.arange(config_depth[\"RangeMin\"], config_depth['RangeMax'], 0.5) for theta in theta_front[1:-1]]\n",
    "\n",
    "all_unexplored_points = [(np.cos(np.radians(rob_rot[2]))*pos[1] - np.sin(np.radians(rob_rot[2]))*pos[0], np.sin(np.radians(rob_rot[2]))*pos[1] + np.cos(np.radians(rob_rot[2]))*pos[0] , pos[2]) for pos in unex_depth + unex_front]\n",
    "\n",
    "br_rot = boundary_relativ_front*rob_rot\n",
    "bd_rot = boundary_relativ_depth*rob_rot\n",
    "\n",
    "#unexplored_relative_bbox = BoundingBox.min_bbox(br_rot, bd_rot)\n",
    "unexplored_relative_bbox = boundary_relativ_front"
   ]
  },
  {
   "cell_type": "code",
   "execution_count": 17,
   "id": "9d6ad50f-6f67-4ca3-8df3-2e9b35b1a5a3",
   "metadata": {},
   "outputs": [],
   "source": [
    "unexplored_points = all_unexplored_points\n",
    "_update_collision_debug(fig, ((unexplored_relative_bbox)).get_bounding_box(), unexplored_points)"
   ]
  },
  {
   "cell_type": "code",
   "execution_count": 18,
   "id": "a2b4ccc3-3dfd-4661-853f-5bb85639a261",
   "metadata": {},
   "outputs": [
    {
     "name": "stdout",
     "output_type": "stream",
     "text": [
      "Winkel: 26"
     ]
    },
    {
     "ename": "KeyboardInterrupt",
     "evalue": "",
     "output_type": "error",
     "traceback": [
      "\u001b[0;31m---------------------------------------------------------------------------\u001b[0m",
      "\u001b[0;31mKeyboardInterrupt\u001b[0m                         Traceback (most recent call last)",
      "\u001b[1;32m/home/nico/Documents/Uni/G05_RL4UWR/40_Realisation/Examples/3D-mapping/bbox_rotation_test.ipynb Cell 18\u001b[0m in \u001b[0;36m<cell line: 3>\u001b[0;34m()\u001b[0m\n\u001b[1;32m      <a href='vscode-notebook-cell://ssh-remote%2Bhome/home/nico/Documents/Uni/G05_RL4UWR/40_Realisation/Examples/3D-mapping/bbox_rotation_test.ipynb#X23sdnNjb2RlLXJlbW90ZQ%3D%3D?line=5'>6</a>\u001b[0m unex_depth \u001b[39m=\u001b[39m triangle_depth_bottom \u001b[39m+\u001b[39m triangle_depth_side\n\u001b[1;32m      <a href='vscode-notebook-cell://ssh-remote%2Bhome/home/nico/Documents/Uni/G05_RL4UWR/40_Realisation/Examples/3D-mapping/bbox_rotation_test.ipynb#X23sdnNjb2RlLXJlbW90ZQ%3D%3D?line=6'>7</a>\u001b[0m unex_front \u001b[39m=\u001b[39m [(hyp\u001b[39m*\u001b[39mnp\u001b[39m.\u001b[39mcos(theta), \u001b[39m-\u001b[39mhyp\u001b[39m*\u001b[39mnp\u001b[39m.\u001b[39msin(theta), \u001b[39m0\u001b[39m) \u001b[39mfor\u001b[39;00m hyp \u001b[39min\u001b[39;00m np\u001b[39m.\u001b[39marange(config_depth[\u001b[39m\"\u001b[39m\u001b[39mRangeMin\u001b[39m\u001b[39m\"\u001b[39m], config_depth[\u001b[39m'\u001b[39m\u001b[39mRangeMax\u001b[39m\u001b[39m'\u001b[39m], \u001b[39m0.5\u001b[39m) \u001b[39mfor\u001b[39;00m theta \u001b[39min\u001b[39;00m theta_front[\u001b[39m1\u001b[39m:\u001b[39m-\u001b[39m\u001b[39m1\u001b[39m]]\n\u001b[0;32m----> <a href='vscode-notebook-cell://ssh-remote%2Bhome/home/nico/Documents/Uni/G05_RL4UWR/40_Realisation/Examples/3D-mapping/bbox_rotation_test.ipynb#X23sdnNjb2RlLXJlbW90ZQ%3D%3D?line=8'>9</a>\u001b[0m unexplored_points \u001b[39m=\u001b[39m [(np\u001b[39m.\u001b[39mcos(np\u001b[39m.\u001b[39mradians(rob_rot[\u001b[39m2\u001b[39m]))\u001b[39m*\u001b[39mpos[\u001b[39m1\u001b[39m] \u001b[39m-\u001b[39m np\u001b[39m.\u001b[39msin(np\u001b[39m.\u001b[39mradians(rob_rot[\u001b[39m2\u001b[39m]))\u001b[39m*\u001b[39mpos[\u001b[39m0\u001b[39m], np\u001b[39m.\u001b[39msin(np\u001b[39m.\u001b[39mradians(rob_rot[\u001b[39m2\u001b[39m]))\u001b[39m*\u001b[39mpos[\u001b[39m1\u001b[39m] \u001b[39m+\u001b[39m np\u001b[39m.\u001b[39mcos(np\u001b[39m.\u001b[39mradians(rob_rot[\u001b[39m2\u001b[39m]))\u001b[39m*\u001b[39mpos[\u001b[39m0\u001b[39m] , pos[\u001b[39m2\u001b[39m]) \u001b[39mfor\u001b[39;00m pos \u001b[39min\u001b[39;00m unex_depth \u001b[39m+\u001b[39m unex_front]\n\u001b[1;32m     <a href='vscode-notebook-cell://ssh-remote%2Bhome/home/nico/Documents/Uni/G05_RL4UWR/40_Realisation/Examples/3D-mapping/bbox_rotation_test.ipynb#X23sdnNjb2RlLXJlbW90ZQ%3D%3D?line=10'>11</a>\u001b[0m unexplored_relative_bbox \u001b[39m=\u001b[39m BoundingBox\u001b[39m.\u001b[39mmin_bbox(boundary_relativ_depth, boundary_relativ_front)\n\u001b[1;32m     <a href='vscode-notebook-cell://ssh-remote%2Bhome/home/nico/Documents/Uni/G05_RL4UWR/40_Realisation/Examples/3D-mapping/bbox_rotation_test.ipynb#X23sdnNjb2RlLXJlbW90ZQ%3D%3D?line=11'>12</a>\u001b[0m \u001b[39m#unexplored_relative_bbox = boundary_relativ_depth\u001b[39;00m\n",
      "\u001b[1;32m/home/nico/Documents/Uni/G05_RL4UWR/40_Realisation/Examples/3D-mapping/bbox_rotation_test.ipynb Cell 18\u001b[0m in \u001b[0;36m<listcomp>\u001b[0;34m(.0)\u001b[0m\n\u001b[1;32m      <a href='vscode-notebook-cell://ssh-remote%2Bhome/home/nico/Documents/Uni/G05_RL4UWR/40_Realisation/Examples/3D-mapping/bbox_rotation_test.ipynb#X23sdnNjb2RlLXJlbW90ZQ%3D%3D?line=5'>6</a>\u001b[0m unex_depth \u001b[39m=\u001b[39m triangle_depth_bottom \u001b[39m+\u001b[39m triangle_depth_side\n\u001b[1;32m      <a href='vscode-notebook-cell://ssh-remote%2Bhome/home/nico/Documents/Uni/G05_RL4UWR/40_Realisation/Examples/3D-mapping/bbox_rotation_test.ipynb#X23sdnNjb2RlLXJlbW90ZQ%3D%3D?line=6'>7</a>\u001b[0m unex_front \u001b[39m=\u001b[39m [(hyp\u001b[39m*\u001b[39mnp\u001b[39m.\u001b[39mcos(theta), \u001b[39m-\u001b[39mhyp\u001b[39m*\u001b[39mnp\u001b[39m.\u001b[39msin(theta), \u001b[39m0\u001b[39m) \u001b[39mfor\u001b[39;00m hyp \u001b[39min\u001b[39;00m np\u001b[39m.\u001b[39marange(config_depth[\u001b[39m\"\u001b[39m\u001b[39mRangeMin\u001b[39m\u001b[39m\"\u001b[39m], config_depth[\u001b[39m'\u001b[39m\u001b[39mRangeMax\u001b[39m\u001b[39m'\u001b[39m], \u001b[39m0.5\u001b[39m) \u001b[39mfor\u001b[39;00m theta \u001b[39min\u001b[39;00m theta_front[\u001b[39m1\u001b[39m:\u001b[39m-\u001b[39m\u001b[39m1\u001b[39m]]\n\u001b[0;32m----> <a href='vscode-notebook-cell://ssh-remote%2Bhome/home/nico/Documents/Uni/G05_RL4UWR/40_Realisation/Examples/3D-mapping/bbox_rotation_test.ipynb#X23sdnNjb2RlLXJlbW90ZQ%3D%3D?line=8'>9</a>\u001b[0m unexplored_points \u001b[39m=\u001b[39m [(np\u001b[39m.\u001b[39;49mcos(np\u001b[39m.\u001b[39;49mradians(rob_rot[\u001b[39m2\u001b[39;49m]))\u001b[39m*\u001b[39;49mpos[\u001b[39m1\u001b[39;49m] \u001b[39m-\u001b[39m np\u001b[39m.\u001b[39msin(np\u001b[39m.\u001b[39mradians(rob_rot[\u001b[39m2\u001b[39m]))\u001b[39m*\u001b[39mpos[\u001b[39m0\u001b[39m], np\u001b[39m.\u001b[39msin(np\u001b[39m.\u001b[39mradians(rob_rot[\u001b[39m2\u001b[39m]))\u001b[39m*\u001b[39mpos[\u001b[39m1\u001b[39m] \u001b[39m+\u001b[39m np\u001b[39m.\u001b[39mcos(np\u001b[39m.\u001b[39mradians(rob_rot[\u001b[39m2\u001b[39m]))\u001b[39m*\u001b[39mpos[\u001b[39m0\u001b[39m] , pos[\u001b[39m2\u001b[39m]) \u001b[39mfor\u001b[39;00m pos \u001b[39min\u001b[39;00m unex_depth \u001b[39m+\u001b[39m unex_front]\n\u001b[1;32m     <a href='vscode-notebook-cell://ssh-remote%2Bhome/home/nico/Documents/Uni/G05_RL4UWR/40_Realisation/Examples/3D-mapping/bbox_rotation_test.ipynb#X23sdnNjb2RlLXJlbW90ZQ%3D%3D?line=10'>11</a>\u001b[0m unexplored_relative_bbox \u001b[39m=\u001b[39m BoundingBox\u001b[39m.\u001b[39mmin_bbox(boundary_relativ_depth, boundary_relativ_front)\n\u001b[1;32m     <a href='vscode-notebook-cell://ssh-remote%2Bhome/home/nico/Documents/Uni/G05_RL4UWR/40_Realisation/Examples/3D-mapping/bbox_rotation_test.ipynb#X23sdnNjb2RlLXJlbW90ZQ%3D%3D?line=11'>12</a>\u001b[0m \u001b[39m#unexplored_relative_bbox = boundary_relativ_depth\u001b[39;00m\n",
      "\u001b[0;31mKeyboardInterrupt\u001b[0m: "
     ]
    }
   ],
   "source": [
    "rob_rot = [0,0,0]\n",
    "while True:\n",
    "    triangle_depth_side = [(0, hyp*np.sin(theta), -hyp*np.cos(theta)) for hyp in np.arange(config_depth[\"RangeMin\"],config_depth['RangeMax'], 0.5) for theta in [theta_depth[0], theta_depth[-1]]]\n",
    "    triangle_depth_bottom = [(0, y, -z_rel_uncovered[0]) for y in np.append(y_rel_covered, y_rel_uncovered)]\n",
    "\n",
    "    unex_depth = triangle_depth_bottom + triangle_depth_side\n",
    "    unex_front = [(hyp*np.cos(theta), -hyp*np.sin(theta), 0) for hyp in np.arange(config_depth[\"RangeMin\"], config_depth['RangeMax'], 0.5) for theta in theta_front[1:-1]]\n",
    "\n",
    "    unexplored_points = [(np.cos(np.radians(rob_rot[2]))*pos[1] - np.sin(np.radians(rob_rot[2]))*pos[0], np.sin(np.radians(rob_rot[2]))*pos[1] + np.cos(np.radians(rob_rot[2]))*pos[0] , pos[2]) for pos in unex_depth + unex_front]\n",
    "\n",
    "    unexplored_relative_bbox = BoundingBox.min_bbox(boundary_relativ_depth, boundary_relativ_front)\n",
    "    #unexplored_relative_bbox = boundary_relativ_depth\n",
    "    a1 = (boundary_relativ_depth*rob_rot)\n",
    "    a2 = (boundary_relativ_front)\n",
    "    t =  BoundingBox.min_bbox(a1, a2)\n",
    "\n",
    "    rob_rot[2] += 1\n",
    "    print(\"\\rWinkel: {}\".format(rob_rot[2]), end=\"\")\n",
    "    _update_collision_debug(fig, t.get_bounding_box(), unexplored_points)\n",
    "    time.sleep(0.2)"
   ]
  },
  {
   "cell_type": "code",
   "execution_count": 19,
   "id": "5556c8c8-0f7e-4aa7-ab22-929fb6dbd910",
   "metadata": {},
   "outputs": [
    {
     "data": {
      "text/plain": [
       "[[-9.208457990201792, -26.743303861764886, 0],\n",
       " [9.208457990201792, 26.743303861764886, 0]]"
      ]
     },
     "execution_count": 19,
     "metadata": {},
     "output_type": "execute_result"
    }
   ],
   "source": [
    "(boundary_relativ_front*rob_rot).get_bounding_box()"
   ]
  },
  {
   "cell_type": "code",
   "execution_count": 20,
   "id": "83949e95-60d7-416c-8399-9bafaaa50145",
   "metadata": {},
   "outputs": [
    {
     "data": {
      "text/plain": [
       "[0, 0, 26]"
      ]
     },
     "execution_count": 20,
     "metadata": {},
     "output_type": "execute_result"
    }
   ],
   "source": [
    "rob_rot"
   ]
  },
  {
   "cell_type": "code",
   "execution_count": 21,
   "id": "68ac0c29-eff1-468d-9835-c14db32ce58b",
   "metadata": {},
   "outputs": [
    {
     "data": {
      "text/plain": [
       "[[-9.208457990201792, -26.743303861764886, 0],\n",
       " [9.208457990201792, 26.743303861764886, 0]]"
      ]
     },
     "execution_count": 21,
     "metadata": {},
     "output_type": "execute_result"
    }
   ],
   "source": [
    "(boundary_relativ_front*rob_rot).get_bounding_box()"
   ]
  },
  {
   "cell_type": "code",
   "execution_count": 22,
   "id": "2feaa2fa-f978-423d-9e22-d31e308aac3d",
   "metadata": {},
   "outputs": [
    {
     "data": {
      "text/plain": [
       "array([-1.04719755, -0.93696623, -0.82673491, -0.71650359, -0.60627227,\n",
       "       -0.49604095, -0.38580962, -0.2755783 , -0.16534698, -0.05511566,\n",
       "        0.05511566,  0.16534698,  0.2755783 ,  0.38580962,  0.49604095,\n",
       "        0.60627227,  0.71650359,  0.82673491,  0.93696623,  1.04719755])"
      ]
     },
     "execution_count": 22,
     "metadata": {},
     "output_type": "execute_result"
    }
   ],
   "source": [
    "theta_front"
   ]
  },
  {
   "cell_type": "code",
   "execution_count": 23,
   "id": "a7f78b0c-5797-4ee0-8419-46ce278a22fe",
   "metadata": {},
   "outputs": [
    {
     "data": {
      "text/plain": [
       "[[-9.208457990201792, -26.743303861764886, -20.0],\n",
       " [9.208457990201792, 26.743303861764886, 0]]"
      ]
     },
     "execution_count": 23,
     "metadata": {},
     "output_type": "execute_result"
    }
   ],
   "source": [
    "((unexplored_relative_bbox)*rob_rot).get_bounding_box()"
   ]
  },
  {
   "cell_type": "code",
   "execution_count": 24,
   "id": "b2158d9b-8224-4486-80f2-6a341b86f765",
   "metadata": {},
   "outputs": [
    {
     "data": {
      "text/plain": [
       "[[-20.0, -20.0, 0], [20.0, 20.0, 0]]"
      ]
     },
     "execution_count": 24,
     "metadata": {},
     "output_type": "execute_result"
    }
   ],
   "source": [
    "br_rot.get_bounding_box()"
   ]
  },
  {
   "cell_type": "code",
   "execution_count": 25,
   "id": "7920c4d8-e1cf-41e6-82c5-6b0ab92ea1d4",
   "metadata": {},
   "outputs": [
    {
     "data": {
      "text/plain": [
       "[[-17.32050807568877, -0.08726618569493141, -20.0],\n",
       " [17.32050807568877, 0.08726618569493141, -0.5]]"
      ]
     },
     "execution_count": 25,
     "metadata": {},
     "output_type": "execute_result"
    }
   ],
   "source": [
    "bd_rot.get_bounding_box()"
   ]
  },
  {
   "cell_type": "code",
   "execution_count": 26,
   "id": "a1e53743-f557-4c43-9602-8167b4aeec43",
   "metadata": {},
   "outputs": [
    {
     "data": {
      "text/plain": [
       "[(-20, -20, -20.0), (20, 20, 0)]"
      ]
     },
     "execution_count": 26,
     "metadata": {},
     "output_type": "execute_result"
    }
   ],
   "source": [
    "unexplored_relative_bbox.get_bounding_box()"
   ]
  },
  {
   "cell_type": "code",
   "execution_count": 27,
   "id": "ebe28fd8-4af2-47cc-a3e7-4892d005e5d6",
   "metadata": {},
   "outputs": [],
   "source": [
    "a1 = (boundary_relativ_depth*rob_rot)"
   ]
  },
  {
   "cell_type": "code",
   "execution_count": 28,
   "id": "e6f3e51b-4d44-47dc-bab4-63617507e2f9",
   "metadata": {},
   "outputs": [],
   "source": [
    "a2 = (boundary_relativ_front*rob_rot)"
   ]
  },
  {
   "cell_type": "code",
   "execution_count": 29,
   "id": "29a98255-d2b1-4c06-9b72-62849e4e16f2",
   "metadata": {},
   "outputs": [
    {
     "data": {
      "text/plain": [
       "[(-15.529314559406714, -26.743303861764886, -20.0),\n",
       " (15.529314559406714, 26.743303861764886, 0)]"
      ]
     },
     "execution_count": 29,
     "metadata": {},
     "output_type": "execute_result"
    }
   ],
   "source": [
    "BoundingBox.min_bbox(a1,a2).get_bounding_box()"
   ]
  },
  {
   "cell_type": "code",
   "execution_count": 30,
   "id": "e5dc0c01-cf80-4741-adca-009bb7ec0b57",
   "metadata": {},
   "outputs": [
    {
     "data": {
      "text/plain": [
       "[[-9.208457990201792, -26.743303861764886, -20.0],\n",
       " [9.208457990201792, 26.743303861764886, 0]]"
      ]
     },
     "execution_count": 30,
     "metadata": {},
     "output_type": "execute_result"
    }
   ],
   "source": [
    "(BoundingBox.min_bbox(boundary_relativ_depth, boundary_relativ_front)*rob_rot).get_bounding_box()"
   ]
  },
  {
   "cell_type": "code",
   "execution_count": 31,
   "id": "ef5979b9-398c-4e7d-afc4-ba8ba612c210",
   "metadata": {},
   "outputs": [],
   "source": [
    "a = [(1,2),(3,4)]"
   ]
  },
  {
   "cell_type": "code",
   "execution_count": 32,
   "id": "12ba102c",
   "metadata": {},
   "outputs": [],
   "source": [
    "if a[0][0] < a[1][0]:\n",
    "    a[0] = list(a[0])\n",
    "    a[1] = list(a[1])\n",
    "\n",
    "    a[0][0], a[1][0] = a[1][0], a[0][0]\n",
    "    tuple(a[0])\n",
    "    tuple(a[1])"
   ]
  },
  {
   "cell_type": "code",
   "execution_count": 33,
   "id": "d33ee7b4",
   "metadata": {},
   "outputs": [],
   "source": [
    "box = a1.get_bounding_box()"
   ]
  },
  {
   "cell_type": "code",
   "execution_count": 34,
   "id": "a7383131",
   "metadata": {},
   "outputs": [],
   "source": [
    "def switch(bbox, i):\n",
    "    bbox[0][0], bbox[1][0] = bbox[1][0], bbox[0][0]\n",
    "    return bbox"
   ]
  },
  {
   "cell_type": "code",
   "execution_count": 35,
   "id": "9403d76d",
   "metadata": {},
   "outputs": [],
   "source": [
    "if box[0][0] > box[1][0]:\n",
    "    box = switch(box, 0)\n"
   ]
  },
  {
   "cell_type": "code",
   "execution_count": 36,
   "id": "2f8b7aa0",
   "metadata": {},
   "outputs": [
    {
     "data": {
      "text/plain": [
       "[[-15.529314559406714, -7.671245316255005, -20.0],\n",
       " [15.529314559406714, 7.671245316255005, -0.5]]"
      ]
     },
     "execution_count": 36,
     "metadata": {},
     "output_type": "execute_result"
    }
   ],
   "source": [
    "(a1*[0,0,90]).get_bounding_box()"
   ]
  }
 ],
 "metadata": {
  "kernelspec": {
   "display_name": "Python 3.8.9 64-bit",
   "language": "python",
   "name": "python3"
  },
  "language_info": {
   "codemirror_mode": {
    "name": "ipython",
    "version": 3
   },
   "file_extension": ".py",
   "mimetype": "text/x-python",
   "name": "python",
   "nbconvert_exporter": "python",
   "pygments_lexer": "ipython3",
   "version": "3.8.10"
  },
  "vscode": {
   "interpreter": {
    "hash": "31f2aee4e71d21fbe5cf8b01ff0e069b9275f58929596ceb00d14d90e3e16cd6"
   }
  }
 },
 "nbformat": 4,
 "nbformat_minor": 5
}
