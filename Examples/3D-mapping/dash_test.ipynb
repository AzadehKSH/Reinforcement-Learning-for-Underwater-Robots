{
 "cells": [
  {
   "cell_type": "code",
   "execution_count": 1,
   "id": "b819f6d1-fa9e-4b90-87f1-867f70ab4ae4",
   "metadata": {},
   "outputs": [],
   "source": [
    "import dash\n",
    "from dash import html\n",
    "from dash import dcc\n",
    "from dash.dependencies import Input, Output\n",
    "\n",
    "import numpy as np\n",
    "\n",
    "from multiprocessing import Process, Queue, Manager\n",
    "\n",
    "import plotly.graph_objects as go\n",
    "from plotly.subplots import make_subplots\n",
    "from Mapping.BoundingBox import BoundingBox\n",
    "\n",
    "import time"
   ]
  },
  {
   "cell_type": "code",
   "execution_count": 2,
   "id": "4539b6e2-8a88-467f-b82d-d840b7460ac4",
   "metadata": {
    "tags": []
   },
   "outputs": [],
   "source": [
    "points = [[(1,0,0),(2,1,1)], []]\n",
    "points[0] += [(3,0,0)]"
   ]
  },
  {
   "cell_type": "code",
   "execution_count": 3,
   "id": "5f8f1ed8-207b-4740-803f-fe6a6565a159",
   "metadata": {},
   "outputs": [],
   "source": [
    "manager = Manager()\n",
    "points = manager.list(points)"
   ]
  },
  {
   "cell_type": "code",
   "execution_count": 4,
   "id": "c44aa5e4-fe63-483d-8afd-46b89a1af361",
   "metadata": {},
   "outputs": [],
   "source": [
    "if len(points[0]) == 0:\n",
    "    x,y,z = [],[],[]\n",
    "else: x,y,z = zip(*points[0])\n",
    "\n",
    "app = dash.Dash(\"Point\", update_title=None)\n",
    "fig1 = go.FigureWidget(\n",
    "    data=[go.Scatter3d(\n",
    "        x=x, y=y, z=z,\n",
    "        mode='markers',\n",
    "        marker=dict(\n",
    "            size=2,\n",
    "            color=z,\n",
    "            colorscale='blackbody')\n",
    "    )])\n",
    "fig2 = go.FigureWidget(\n",
    "    data=[go.Scatter3d(\n",
    "        x=[], y=[], z=[],\n",
    "        mode='markers',\n",
    "        marker=dict(\n",
    "            size=2,\n",
    "            color=z,\n",
    "            colorscale='blackbody')\n",
    "    )])\n",
    "\n",
    "fig3 = go.FigureWidget()\n",
    "\n",
    "fig3.add_scatter3d(\n",
    "    mode='markers',\n",
    "    marker=dict(\n",
    "        size=2,\n",
    "        color=\"black\"\n",
    "    ),\n",
    "    showlegend=True,\n",
    "    name=\"expl. points\"\n",
    ")\n",
    "\n",
    "fig3.add_mesh3d(\n",
    "    i = [7, 0, 0, 0, 4, 4, 6, 6, 4, 0, 3, 2],\n",
    "    j = [3, 4, 1, 2, 5, 6, 5, 2, 0, 1, 6, 3],\n",
    "    k = [0, 7, 2, 3, 6, 7, 1, 1, 5, 5, 7, 6],\n",
    "    opacity=1,\n",
    "    color='#DC143C',\n",
    "    flatshading = True,\n",
    "    showlegend=True,\n",
    "    name=\"robot\"\n",
    ")\n",
    "\n",
    "fig3.update_layout(\n",
    "    title=\"explored points\",\n",
    "    xaxis_title=\"y\",\n",
    "    yaxis_title=\"x\" #use same system as holoocean\n",
    ")\n",
    "\n",
    "app.layout =  html.Div([\n",
    "    html.Div([\n",
    "        dcc.Graph(\n",
    "        id=\"graph1\",\n",
    "        figure=fig1\n",
    "    )\n",
    "    ]),\n",
    "    html.Div([\n",
    "        dcc.Graph(\n",
    "        id=\"graph2\",\n",
    "        figure=fig2, \n",
    "    ), \n",
    "    ]),\n",
    "    dcc.Interval(\n",
    "        id='interval-component',\n",
    "        interval=1*1000, \n",
    "        n_intervals=0\n",
    "    )\n",
    "])\n",
    "\n",
    "@app.callback(\n",
    "    Output(\"graph1\", \"figure\"),\n",
    "    [Input('interval-component', 'n_intervals')],\n",
    "    prevent_initial_call=False\n",
    ")\n",
    "def update_graph1(intervals):\n",
    "    global points\n",
    "    if len(points[0]) == 0:\n",
    "        x, y, z = [],[],[]\n",
    "    else: x,y,z = zip(*points[0])\n",
    "    return go.Figure(\n",
    "    data=[go.Scatter3d(\n",
    "        x=x, y=y, z=z,\n",
    "        mode='markers',\n",
    "        marker=dict(\n",
    "            size=2,\n",
    "            color=z,\n",
    "            colorscale='blackbody')\n",
    "    )])\n",
    "\n",
    "@app.callback(\n",
    "    Output(\"graph2\", \"figure\"),\n",
    "    [Input('interval-component', 'n_intervals')],\n",
    "    prevent_initial_call=False\n",
    ")\n",
    "def update_graph2(intervals):\n",
    "    global points\n",
    "    if len(points[1]) == 0:\n",
    "        x, y, z = [],[],[]\n",
    "    else: x,y,z = zip(*points[1])\n",
    "    return go.Figure(\n",
    "    data=[go.Scatter3d(\n",
    "        x=x, y=y, z=z,\n",
    "        mode='markers',\n",
    "        marker=dict(\n",
    "            size=2,\n",
    "            color=z,\n",
    "            colorscale='blackbody')\n",
    "    )])"
   ]
  },
  {
   "cell_type": "code",
   "execution_count": 5,
   "id": "793206fe-ff14-430d-b3b8-22354721480a",
   "metadata": {
    "tags": []
   },
   "outputs": [
    {
     "name": "stdout",
     "output_type": "stream",
     "text": [
      "Dash is running on http://0.0.0.0:8050/\n",
      "\n"
     ]
    }
   ],
   "source": [
    "%%capture\n",
    "def tmp(host, debug, app):\n",
    "    app.run_server(host=host, debug=debug, threaded=True)\n",
    "    \n",
    "p = Process(target=app.run_server, kwargs={'host': '0.0.0.0', 'debug': False})\n",
    "p.start()"
   ]
  },
  {
   "cell_type": "code",
   "execution_count": 7,
   "id": "4499c85b-41b3-4ad8-94d5-606ca7704f77",
   "metadata": {},
   "outputs": [],
   "source": [
    "tmp = points"
   ]
  },
  {
   "cell_type": "code",
   "execution_count": 10,
   "id": "c5df9c5d-8567-4265-996f-89c3f8c6a525",
   "metadata": {},
   "outputs": [],
   "source": [
    "tmp[0] += [(1,20,3)]"
   ]
  },
  {
   "cell_type": "code",
   "execution_count": 11,
   "id": "26587348-3fd0-44fc-95e7-f46504c3010d",
   "metadata": {},
   "outputs": [
    {
     "data": {
      "text/plain": [
       "[(1, 0, 0), (2, 1, 1), (3, 0, 0), (1, 20, 3)]"
      ]
     },
     "execution_count": 11,
     "metadata": {},
     "output_type": "execute_result"
    }
   ],
   "source": [
    "tmp[0]"
   ]
  },
  {
   "cell_type": "code",
   "execution_count": 6,
   "id": "257116c9-d436-4179-a731-3d13c08906fc",
   "metadata": {},
   "outputs": [],
   "source": [
    "fig = app.layout.children[2].children[0].figure"
   ]
  },
  {
   "cell_type": "code",
   "execution_count": 7,
   "id": "4aeba712-31b4-4bb4-a73f-ea483d33e0f1",
   "metadata": {},
   "outputs": [
    {
     "name": "stdout",
     "output_type": "stream",
     "text": [
      "FigureWidget({\n",
      "    'data': [{'marker': {'color': 'black', 'size': 2},\n",
      "              'mode': 'markers',\n",
      "              'name': 'expl. points',\n",
      "              'showlegend': True,\n",
      "              'type': 'scatter3d',\n",
      "              'uid': '831c6698-e39c-4d00-a7a4-b4241d83192b'},\n",
      "             {'color': '#DC143C',\n",
      "              'flatshading': True,\n",
      "              'i': [7, 0, 0, 0, 4, 4, 6, 6, 4, 0, 3, 2],\n",
      "              'j': [3, 4, 1, 2, 5, 6, 5, 2, 0, 1, 6, 3],\n",
      "              'k': [0, 7, 2, 3, 6, 7, 1, 1, 5, 5, 7, 6],\n",
      "              'name': 'robot',\n",
      "              'opacity': 1,\n",
      "              'showlegend': True,\n",
      "              'type': 'mesh3d',\n",
      "              'uid': 'e1628d55-0aa6-4c9a-b7c7-eb2a72222812'}],\n",
      "    'layout': {'template': '...',\n",
      "               'title': {'text': 'explored points'},\n",
      "               'xaxis': {'title': {'text': 'y'}},\n",
      "               'yaxis': {'title': {'text': 'x'}}}\n",
      "})\n"
     ]
    }
   ],
   "source": [
    "print(fig)"
   ]
  },
  {
   "cell_type": "code",
   "execution_count": 14,
   "id": "7383404f-2a40-4429-8628-eb27f0213a10",
   "metadata": {},
   "outputs": [],
   "source": [
    "points[0] += [(3,4,3)] "
   ]
  },
  {
   "cell_type": "code",
   "execution_count": 7,
   "id": "f0e29378-0e64-40a8-9b2a-d99c86ab3dc7",
   "metadata": {},
   "outputs": [],
   "source": [
    "points[1] += [(3,300,3)] "
   ]
  },
  {
   "cell_type": "code",
   "execution_count": null,
   "id": "ee183efb-2ea6-4e48-b4cd-e9549f6b339d",
   "metadata": {},
   "outputs": [],
   "source": [
    "print(points[0])"
   ]
  },
  {
   "cell_type": "code",
   "execution_count": null,
   "id": "572c104c-7795-4c1c-ba0b-1984e11a8cf7",
   "metadata": {},
   "outputs": [],
   "source": [
    "print(points)"
   ]
  },
  {
   "cell_type": "code",
   "execution_count": null,
   "id": "49a3a9c2-cd93-49ae-af92-089433193c5c",
   "metadata": {},
   "outputs": [],
   "source": [
    "def update_fig(points, target, rob_pos, rob_width=.25, rob_height=.25, rob_depth=.25):\n",
    "    x,y,z = zip(*points)\n",
    "    fig = go.Figure(\n",
    "        data=[go.Scatter3d(\n",
    "            x=x, y=y, z=z,\n",
    "            mode='markers',\n",
    "            marker=dict(\n",
    "                size=2,\n",
    "                color=\"black\"\n",
    "            ),\n",
    "            showlegend=False,\n",
    "        )],\n",
    "    )\n",
    "    bbox = BoundingBox(\n",
    "        (rob_pos[0]-rob_width, rob_pos[1]-rob_height, rob_pos[2]-rob_depth),\n",
    "        (rob_pos[0]+rob_width, rob_pos[1]+rob_height, rob_pos[2]+rob_depth),\n",
    "    ).get_bounding_box()\n",
    "    fig.add_trace(go.Scatter3d(\n",
    "        x=[target[0]], y=[target[1]], z=[target[2]],\n",
    "        showlegend=False,\n",
    "        marker=dict(\n",
    "            size=5,\n",
    "            color=\"blue\"\n",
    "        )\n",
    "    ))\n",
    "    fig.add_trace(go.Mesh3d(\n",
    "            # 8 vertices of a cube\n",
    "            x=[bbox[0][0], bbox[0][0], bbox[1][0], bbox[1][0], bbox[0][0], bbox[0][0], bbox[1][0], bbox[1][0]],\n",
    "            y=[bbox[0][1], bbox[1][1], bbox[1][1], bbox[0][1], bbox[0][1], bbox[1][1], bbox[1][1], bbox[0][1]],\n",
    "            z=[bbox[0][2], bbox[0][2], bbox[0][2], bbox[0][2], bbox[1][2], bbox[1][2], bbox[1][2], bbox[1][2]],\n",
    "            i = [7, 0, 0, 0, 4, 4, 6, 6, 4, 0, 3, 2],\n",
    "            j = [3, 4, 1, 2, 5, 6, 5, 2, 0, 1, 6, 3],\n",
    "            k = [0, 7, 2, 3, 6, 7, 1, 1, 5, 5, 7, 6],\n",
    "            opacity=1,\n",
    "            color='#DC143C',\n",
    "            flatshading = True,\n",
    "            showlegend=False\n",
    "        ))\n",
    "    \n",
    "    fig.update_layout(\n",
    "        title=\"Position\"\n",
    "    )\n",
    "    \n",
    "    return fig"
   ]
  },
  {
   "cell_type": "code",
   "execution_count": null,
   "id": "2422df70-2a29-4c30-9d6e-0c300a8a692b",
   "metadata": {},
   "outputs": [],
   "source": [
    "points[0] += [(0,1,0)]\n",
    "fig = update_fig(points[0], (0,2,2), (0,1,1))"
   ]
  },
  {
   "cell_type": "code",
   "execution_count": null,
   "id": "b7ed03df-89be-475b-87cc-57215ad5f80c",
   "metadata": {},
   "outputs": [],
   "source": [
    "fig.show()"
   ]
  },
  {
   "cell_type": "code",
   "execution_count": null,
   "id": "75928aa7-1b16-4581-a4bc-5dea6257de4d",
   "metadata": {},
   "outputs": [],
   "source": [
    "points[0] += [(0,-1,-2)]\n",
    "with fig.batch_update():\n",
    "    x,y,z = zip(*points[0])\n",
    "    fig.data[0].x = x\n",
    "    fig.data[0].y = y\n",
    "    fig.data[0].z = z"
   ]
  },
  {
   "cell_type": "code",
   "execution_count": null,
   "id": "8df817e1-5f46-4d74-8b35-caa7ef6cf04a",
   "metadata": {},
   "outputs": [],
   "source": [
    "print(fig.data)"
   ]
  },
  {
   "cell_type": "code",
   "execution_count": 6,
   "id": "6a77c6b8-0fec-4e88-9923-53366aaf213e",
   "metadata": {},
   "outputs": [],
   "source": [
    "def init_fig():\n",
    "    fig = go.FigureWidget()\n",
    "    fig.add_scatter3d(\n",
    "        mode='markers',\n",
    "        marker=dict(\n",
    "            size=2,\n",
    "            color=\"black\"\n",
    "        ),\n",
    "        showlegend=False,\n",
    "    )\n",
    "    fig.add_scatter3d(\n",
    "        showlegend=False,\n",
    "        marker=dict(\n",
    "            size=5,\n",
    "            color=\"blue\"\n",
    "        )\n",
    "    )\n",
    "    fig.add_mesh3d(\n",
    "        i = [7, 0, 0, 0, 4, 4, 6, 6, 4, 0, 3, 2],\n",
    "        j = [3, 4, 1, 2, 5, 6, 5, 2, 0, 1, 6, 3],\n",
    "        k = [0, 7, 2, 3, 6, 7, 1, 1, 5, 5, 7, 6],\n",
    "        opacity=1,\n",
    "        color='#DC143C',\n",
    "        flatshading = True,\n",
    "        showlegend=False\n",
    "    )\n",
    "    \n",
    "    return fig"
   ]
  },
  {
   "cell_type": "code",
   "execution_count": 7,
   "id": "94babfc8-9879-4561-8c3c-5b7e9a24e70c",
   "metadata": {},
   "outputs": [
    {
     "data": {
      "application/vnd.jupyter.widget-view+json": {
       "model_id": "2d94aa1cfcc44488b25d9eccaf7c32c9",
       "version_major": 2,
       "version_minor": 0
      },
      "text/plain": [
       "FigureWidget({\n",
       "    'data': [{'marker': {'color': 'black', 'size': 2},\n",
       "              'mode': 'markers',\n",
       "       …"
      ]
     },
     "metadata": {},
     "output_type": "display_data"
    }
   ],
   "source": [
    "fig = init_fig()\n",
    "display(fig)"
   ]
  },
  {
   "cell_type": "code",
   "execution_count": 8,
   "id": "77bd3290-20a7-46e2-bab7-4ab6bbda82a3",
   "metadata": {},
   "outputs": [],
   "source": [
    "def update_fig2(fig, points, target, rob_pos, rob_width=.25, rob_height=.25, rob_depth=.25):\n",
    "    x,y,z = zip(*points)\n",
    "    with fig.batch_update():\n",
    "        fig.data[0].x = x\n",
    "        fig.data[0].y = y\n",
    "        fig.data[0].z = z\n",
    "        \n",
    "        fig.data[1].x = [target[0]]\n",
    "        fig.data[1].y = [target[1]]\n",
    "        fig.data[1].z = [target[2]]\n",
    "        \n",
    "        bbox = BoundingBox(\n",
    "            (rob_pos[0]-rob_width, rob_pos[1]-rob_height, rob_pos[2]-rob_depth),\n",
    "            (rob_pos[0]+rob_width, rob_pos[1]+rob_height, rob_pos[2]+rob_depth),\n",
    "        ).get_bounding_box()\n",
    "        \n",
    "        fig.data[2].x = [bbox[0][0], bbox[0][0], bbox[1][0], bbox[1][0], bbox[0][0], bbox[0][0], bbox[1][0], bbox[1][0]]\n",
    "        fig.data[2].y = [bbox[0][1], bbox[1][1], bbox[1][1], bbox[0][1], bbox[0][1], bbox[1][1], bbox[1][1], bbox[0][1]]\n",
    "        fig.data[2].z = [bbox[0][2], bbox[0][2], bbox[0][2], bbox[0][2], bbox[1][2], bbox[1][2], bbox[1][2], bbox[1][2]]"
   ]
  },
  {
   "cell_type": "code",
   "execution_count": 9,
   "id": "afe5ad7b-c530-449b-bcc9-00b412b385de",
   "metadata": {},
   "outputs": [],
   "source": [
    "update_fig2(fig, points[0], (0,5,2), (0,1,1))"
   ]
  },
  {
   "cell_type": "code",
   "execution_count": null,
   "id": "c80f46f1-be5c-4c53-87ec-f7ff3a6aee9f",
   "metadata": {},
   "outputs": [],
   "source": [
    "points[0] += [(4,2,2)]"
   ]
  },
  {
   "cell_type": "code",
   "execution_count": 13,
   "id": "751e4bf2-ec59-4052-a157-ec8591c109f2",
   "metadata": {},
   "outputs": [],
   "source": [
    "update_fig2(fig, points[0], (0,5,2), (0,30,1))"
   ]
  },
  {
   "cell_type": "code",
   "execution_count": null,
   "id": "62c49a02-e7e8-42e4-be79-303e5631fa9e",
   "metadata": {},
   "outputs": [],
   "source": [
    "iteration_number = 0\n",
    "while iteration_number < 100:\n",
    "#    print(f\"iteration {iteration_number + 1}\")\n",
    "    print(\"\\rIteration {}\".format(iteration_number + 1), end=\"\")\n",
    "    iteration_number += 1"
   ]
  },
  {
   "cell_type": "code",
   "execution_count": null,
   "id": "f635f462-73e9-4e3a-8dd9-3b95bbb97222",
   "metadata": {},
   "outputs": [],
   "source": [
    "fig.update_layout(\n",
    "    scene = dict(\n",
    "        yaxis = dict(range=[-10,10],),\n",
    "    )\n",
    ")"
   ]
  },
  {
   "cell_type": "code",
   "execution_count": null,
   "id": "4b3be0f7-6428-4a62-b576-f217086b3ec4",
   "metadata": {},
   "outputs": [],
   "source": [
    "ipy = None\n",
    "try:\n",
    "    ipy = get_ipython().__class__.__name__ is not None\n",
    "except:\n",
    "    ipy = False"
   ]
  },
  {
   "cell_type": "code",
   "execution_count": null,
   "id": "5e273e82-5bc4-40eb-8df4-18312bfc443b",
   "metadata": {},
   "outputs": [],
   "source": [
    "ipy"
   ]
  },
  {
   "cell_type": "code",
   "execution_count": null,
   "id": "fa885df4-8f71-430b-ae02-0787b0e9ce18",
   "metadata": {},
   "outputs": [],
   "source": [
    "t = [1,2,3]"
   ]
  },
  {
   "cell_type": "code",
   "execution_count": null,
   "id": "b5681a07-c59b-4c4c-abe9-1869613da58e",
   "metadata": {},
   "outputs": [],
   "source": [
    "manager = Manager()\n",
    "X = manager.list(t)"
   ]
  },
  {
   "cell_type": "code",
   "execution_count": null,
   "id": "6f90ece9-f73e-4546-9d83-7f89125f25e9",
   "metadata": {},
   "outputs": [],
   "source": [
    "print(X)"
   ]
  },
  {
   "cell_type": "code",
   "execution_count": null,
   "id": "0d54768e-cffb-42e8-9883-a3bc2cc72fe0",
   "metadata": {},
   "outputs": [],
   "source": [
    "t.append(45)"
   ]
  },
  {
   "cell_type": "code",
   "execution_count": null,
   "id": "18dc31a5-4bab-4123-a0d0-6c6171485092",
   "metadata": {},
   "outputs": [],
   "source": [
    "t"
   ]
  },
  {
   "cell_type": "code",
   "execution_count": null,
   "id": "9845108f-7f6e-4050-aff8-b9709d9b23cd",
   "metadata": {},
   "outputs": [],
   "source": [
    "print(X)"
   ]
  },
  {
   "cell_type": "code",
   "execution_count": null,
   "id": "0135b1eb-3c02-4f4d-a8c8-8968566f4d2f",
   "metadata": {},
   "outputs": [],
   "source": [
    "X.append(45)"
   ]
  },
  {
   "cell_type": "code",
   "execution_count": null,
   "id": "e4ca8c6f-7a71-4f42-8fd5-8f195ed4c2c6",
   "metadata": {},
   "outputs": [],
   "source": [
    "print(X)"
   ]
  },
  {
   "cell_type": "code",
   "execution_count": null,
   "id": "dd0e133a-16ad-4280-ba87-ec0da33ac996",
   "metadata": {},
   "outputs": [],
   "source": [
    "def tmp(shared):\n",
    "    while True:\n",
    "        print(shared)\n",
    "        time.sleep(1)\n",
    "p = Process(\n",
    "    target=tmp, args=[X]\n",
    ")\n",
    "p.start()"
   ]
  },
  {
   "cell_type": "code",
   "execution_count": null,
   "id": "729dd705-95e3-41c7-ba43-dcf39f32cc49",
   "metadata": {},
   "outputs": [],
   "source": [
    "X.append(12)"
   ]
  },
  {
   "cell_type": "code",
   "execution_count": 6,
   "id": "3dc88c97-f3bf-46a5-bbf6-cc32fd9d1766",
   "metadata": {},
   "outputs": [
    {
     "name": "stdout",
     "output_type": "stream",
     "text": [
      "[None, None, None]\n"
     ]
    }
   ],
   "source": [
    "print(manager.list([None]*3))"
   ]
  },
  {
   "cell_type": "code",
   "execution_count": null,
   "id": "77465adc-e991-4964-a680-d768cb23cb95",
   "metadata": {},
   "outputs": [],
   "source": []
  }
 ],
 "metadata": {
  "kernelspec": {
   "display_name": "neidi",
   "language": "python",
   "name": "neidi"
  },
  "language_info": {
   "codemirror_mode": {
    "name": "ipython",
    "version": 3
   },
   "file_extension": ".py",
   "mimetype": "text/x-python",
   "name": "python",
   "nbconvert_exporter": "python",
   "pygments_lexer": "ipython3",
   "version": "3.8.13"
  }
 },
 "nbformat": 4,
 "nbformat_minor": 5
}
