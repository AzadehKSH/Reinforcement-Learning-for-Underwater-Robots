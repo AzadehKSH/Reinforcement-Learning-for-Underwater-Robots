{
 "cells": [
  {
   "cell_type": "code",
   "execution_count": 139,
   "metadata": {},
   "outputs": [],
   "source": [
    "from enum import Enum\n",
    "import matplotlib.pyplot as plt\n",
    "import plotly.graph_objects as go"
   ]
  },
  {
   "cell_type": "code",
   "execution_count": 140,
   "metadata": {},
   "outputs": [],
   "source": [
    "class Label(Enum):\n",
    "    UNKNOWN = 1\n",
    "    EMPTY = 2\n",
    "    OCCUPIED = 3\n",
    "    VIEWED = 4\n",
    "    RANGE = 5\n",
    "    CAMERA = 6"
   ]
  },
  {
   "cell_type": "code",
   "execution_count": 141,
   "metadata": {},
   "outputs": [],
   "source": [
    "class Cell:\n",
    "    def __init__(self, x, y, z, label):\n",
    "        self.x = x\n",
    "        self.y = y\n",
    "        self.z = z\n",
    "        self.label = label\n",
    "    \n",
    "    def set_label(self, label):\n",
    "        self.label = label\n",
    "        return self\n",
    "    \n",
    "    def __str__(self):\n",
    "        return f\"(({self.x},{self.y},{self.z}), {self.label})\"\n",
    "    \n",
    "    def __repr__(self):\n",
    "        return f\"(({self.x},{self.y},{self.z}), {self.label})\""
   ]
  },
  {
   "cell_type": "code",
   "execution_count": 142,
   "metadata": {},
   "outputs": [],
   "source": [
    "class BoundingBox:\n",
    "    def __init__(self, bounding_box_list):\n",
    "        self._bbox = bounding_box_list\n",
    "    def get_bounding_box(self):\n",
    "        return self._bbox\n",
    "    def contains_cell(self, cell):\n",
    "        for (bbox_coord_lower, bbox_coord_upper), cell_coord in zip(self._bbox, [cell.x, cell.y, cell.z]):\n",
    "            if cell_coord < bbox_coord_lower or cell_coord > bbox_coord_upper:\n",
    "                return False\n",
    "        return True\n",
    "    def get_middle_point(self):\n",
    "        return (self._bbox[0][0] + self._bbox[0][1])/2,  (self._bbox[1][0] + self._bbox[1][1])/2, (self._bbox[2][0] + self._bbox[2][1])/2\n",
    "    def intersects(self, other):\n",
    "        return not (\n",
    "            other._bbox[0][0] > self._bbox[0][1] or  \n",
    "            other._bbox[0][1] < self._bbox[0][0] or\n",
    "            other._bbox[1][0] > self._bbox[1][1] or\n",
    "            other._bbox[1][1] < self._bbox[1][0] or\n",
    "            other._bbox[2][0] > self._bbox[2][1] or\n",
    "            other._bbox[2][1] < self._bbox[2][0]\n",
    "        )\n",
    "    def draw(self, fig):\n",
    "\n",
    "        fig.add_trace(go.Mesh3d(\n",
    "            # 8 vertices of a cube\n",
    "            x=[self._bbox[0][0], self._bbox[0][0], self._bbox[0][1], self._bbox[0][1], self._bbox[0][0], self._bbox[0][0], self._bbox[0][1], self._bbox[0][1]],\n",
    "            y=[self._bbox[1][0], self._bbox[1][1], self._bbox[1][1], self._bbox[1][0], self._bbox[1][0], self._bbox[1][1], self._bbox[1][1], self._bbox[1][0]],\n",
    "            z=[self._bbox[2][0], self._bbox[2][0], self._bbox[2][0], self._bbox[2][0], self._bbox[2][1], self._bbox[2][1], self._bbox[2][1], self._bbox[2][1]],\n",
    "            i = [7, 0, 0, 0, 4, 4, 6, 6, 4, 0, 3, 2],\n",
    "            j = [3, 4, 1, 2, 5, 6, 5, 2, 0, 1, 6, 3],\n",
    "            k = [0, 7, 2, 3, 6, 7, 1, 1, 5, 5, 7, 6],\n",
    "            opacity=0.6,\n",
    "            color='#DC143C',\n",
    "            flatshading = True\n",
    "\n",
    "        ))\n",
    "\n",
    "\n",
    "\n"
   ]
  },
  {
   "cell_type": "code",
   "execution_count": 143,
   "metadata": {},
   "outputs": [],
   "source": [
    "class Octree:\n",
    "    def __init__(self, cell):\n",
    "        # leaf\n",
    "        self._cells = [cell]\n",
    "    def __init__(self, boundary: BoundingBox, max_nodes = 8, depth = 0):\n",
    "        self._max_nodes = max_nodes\n",
    "        self._cells = []\n",
    "        self._depth = depth\n",
    "        self._boundary: BoundingBox = boundary\n",
    "        self._divided = False\n",
    "        self._children = [None]*8\n",
    "    \n",
    "    def set_cells(self, cells):\n",
    "        self._cells = cells\n",
    "        return self\n",
    "    \n",
    "    def set_depth(self, depth):\n",
    "        self.depth = depth\n",
    "        return self\n",
    "    \n",
    "    def copy(self):\n",
    "        return Octree(self._max_nodes, self._boundary, self._max_nodes).set_cells(self._cells).set_depth(self._depth)\n",
    "\n",
    "    def find_cells(self, boundary: BoundingBox, found_cells):\n",
    "        if not self._boundary.intersects(boundary):\n",
    "            return False\n",
    "        \n",
    "        for cell in self._cells:\n",
    "            if boundary.contains_cell(cell):\n",
    "                found_cells.append(cell)\n",
    "        if self._divided:\n",
    "            for child in self._children:\n",
    "                child.find_cells(boundary, found_cells)\n",
    "        return found_cells\n",
    "\n",
    "    def insert(self, cell):\n",
    "        if not self._boundary.contains_cell(cell):\n",
    "            return False\n",
    "        if len(self._cells) < self._max_nodes and self._children[0] is None:\n",
    "            self._cells.append(cell)\n",
    "            return True\n",
    "        if not self._divided:\n",
    "            self.divide()\n",
    "        \n",
    "        for child in self._children:\n",
    "            if (child.insert(cell)):\n",
    "                return True\n",
    "        \n",
    "        return False\n",
    "    \n",
    "    def get_all_cells(self, found_cells):\n",
    "        for cell in self._cells:\n",
    "            found_cells.append(cell)\n",
    "        if self._divided:\n",
    "            for child in self._children:\n",
    "                child.get_all_cells(found_cells)\n",
    "        return found_cells\n",
    "        \n",
    "        \n",
    "    def divide(self):\n",
    "        mid_x, mid_y, mid_z = self._boundary.get_middle_point()\n",
    "        bbox = self._boundary.get_bounding_box()\n",
    "        \n",
    "        self._children[0] = Octree(BoundingBox(\n",
    "            [(bbox[0][0], mid_x),\n",
    "            (bbox[1][0], mid_y),\n",
    "            (bbox[2][0], mid_z)]\n",
    "            ),\n",
    "            depth=self._depth + 1\n",
    "        )\n",
    "        self._children[1] = Octree(BoundingBox(\n",
    "            [(mid_x, bbox[0][1]),\n",
    "            (bbox[1][0], mid_y),\n",
    "            (bbox[2][0], mid_z)]\n",
    "            ),\n",
    "            depth=self._depth + 1\n",
    "        )\n",
    "        self._children[2] = Octree(BoundingBox(\n",
    "            [(mid_x, bbox[0][1]),\n",
    "            (mid_y, bbox[1][1]),\n",
    "            (bbox[2][0], mid_z)]\n",
    "            ),\n",
    "            depth=self._depth + 1\n",
    "        )\n",
    "        self._children[3] = Octree(BoundingBox(\n",
    "            [(bbox[0][0], mid_x),\n",
    "            (mid_y, bbox[1][1]),\n",
    "            (bbox[2][0], mid_z)]\n",
    "            ),\n",
    "            depth=self._depth + 1\n",
    "        )\n",
    "        self._children[4] = Octree(BoundingBox(\n",
    "            [(bbox[0][0], mid_x),\n",
    "            (bbox[1][0], mid_y),\n",
    "            (mid_z, bbox[2][1])]\n",
    "            ),\n",
    "            depth=self._depth + 1\n",
    "        )\n",
    "        self._children[5] = Octree(BoundingBox(\n",
    "            [(mid_x, bbox[0][1]),\n",
    "            (bbox[1][0], mid_y),\n",
    "            (mid_z, bbox[2][1])]\n",
    "            ),\n",
    "            depth=self._depth + 1\n",
    "        )\n",
    "        self._children[6] = Octree(BoundingBox(\n",
    "            [(mid_x, bbox[0][1]),\n",
    "            (mid_y, bbox[1][1]),\n",
    "            (mid_z, bbox[2][1])]\n",
    "            ),\n",
    "            depth=self._depth + 1\n",
    "        )\n",
    "        self._children[7] = Octree(BoundingBox(\n",
    "            [(bbox[0][0], mid_x),\n",
    "            (mid_y, bbox[1][1]),\n",
    "            (mid_z, bbox[2][1])]\n",
    "            ),\n",
    "            depth=self._depth + 1\n",
    "        )\n",
    "\n",
    "        for cell in self._cells:\n",
    "            for child in self._children:\n",
    "                if child.insert(cell):\n",
    "                    break\n",
    "        self._cells = []\n",
    "\n",
    "        self._divided = True\n",
    "    def __len__(self):\n",
    "        length = len(self._cells)\n",
    "        if self._divided:\n",
    "            length += sum(len(child) for child in self._children)\n",
    "        return length\n",
    "    def draw(self, fig):\n",
    "        self._boundary.draw(fig)\n",
    "        if self._divided:\n",
    "            for child in self._children:\n",
    "                child.draw(fig)\n",
    "                \n",
    "        \n",
    "        "
   ]
  },
  {
   "cell_type": "code",
   "execution_count": 144,
   "metadata": {},
   "outputs": [],
   "source": [
    "class UnderwaterMap:\n",
    "    def update_map(self):\n",
    "        pass\n",
    "    def compute_detections(self):\n",
    "        pass\n"
   ]
  },
  {
   "cell_type": "code",
   "execution_count": 145,
   "metadata": {},
   "outputs": [],
   "source": [
    "cells = []\n",
    "with open(\"point_cloud.xyz\", \"r\") as file:\n",
    "    for line in file:\n",
    "        cells.append(Cell(*[float(x) for x in line.split()], Label.CAMERA))"
   ]
  },
  {
   "cell_type": "code",
   "execution_count": 146,
   "metadata": {},
   "outputs": [],
   "source": [
    "ot = Octree(BoundingBox([(-5,35),(-30,30), (-40, -20)]))"
   ]
  },
  {
   "cell_type": "code",
   "execution_count": 147,
   "metadata": {},
   "outputs": [],
   "source": [
    "i = 0\n",
    "for cell in cells:\n",
    "    if i > 100:\n",
    "        break\n",
    "    i += 1\n",
    "    res = ot.insert(cell)\n",
    "    if not res:\n",
    "        print(cell.x, cell.y, cell.z)\n"
   ]
  },
  {
   "cell_type": "code",
   "execution_count": 148,
   "metadata": {},
   "outputs": [
    {
     "data": {
      "text/plain": [
       "101"
      ]
     },
     "execution_count": 148,
     "metadata": {},
     "output_type": "execute_result"
    }
   ],
   "source": [
    "len(ot.get_all_cells([]))"
   ]
  },
  {
   "cell_type": "code",
   "execution_count": 149,
   "metadata": {},
   "outputs": [
    {
     "data": {
      "text/plain": [
       "101"
      ]
     },
     "execution_count": 149,
     "metadata": {},
     "output_type": "execute_result"
    }
   ],
   "source": [
    "len(ot)"
   ]
  },
  {
   "cell_type": "code",
   "execution_count": 150,
   "metadata": {},
   "outputs": [],
   "source": [
    "fig = go.FigureWidget()\n",
    "ot.draw(fig)"
   ]
  },
  {
   "cell_type": "code",
   "execution_count": 174,
   "metadata": {},
   "outputs": [
    {
     "data": {
      "application/vnd.jupyter.widget-view+json": {
       "model_id": "c09bb9890d714c3fa205e6a429ed5db2",
       "version_major": 2,
       "version_minor": 0
      },
      "text/plain": [
       "FigureWidget({\n",
       "    'data': [{'color': '#DC143C',\n",
       "              'flatshading': True,\n",
       "              'i': [7, 0, …"
      ]
     },
     "metadata": {},
     "output_type": "display_data"
    }
   ],
   "source": [
    "fig"
   ]
  }
 ],
 "metadata": {
  "interpreter": {
   "hash": "d8a8997fbaec6c70cbd0c96db0b6ebb47dabae7244bc46bf6c6c90c52ce5ad2e"
  },
  "kernelspec": {
   "display_name": "Python 3.9.12 ('AI3')",
   "language": "python",
   "name": "python3"
  },
  "language_info": {
   "codemirror_mode": {
    "name": "ipython",
    "version": 3
   },
   "file_extension": ".py",
   "mimetype": "text/x-python",
   "name": "python",
   "nbconvert_exporter": "python",
   "pygments_lexer": "ipython3",
   "version": "3.9.12"
  },
  "orig_nbformat": 4
 },
 "nbformat": 4,
 "nbformat_minor": 2
}
