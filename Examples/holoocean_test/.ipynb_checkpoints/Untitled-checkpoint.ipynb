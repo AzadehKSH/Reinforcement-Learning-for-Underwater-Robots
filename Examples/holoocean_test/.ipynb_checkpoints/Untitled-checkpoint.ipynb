{
 "cells": [
  {
   "cell_type": "code",
   "execution_count": 1,
   "id": "b29a5410-6bfd-4bbb-af02-e26ac3553160",
   "metadata": {},
   "outputs": [],
   "source": [
    "import holoocean\n",
    "import numpy as np\n",
    "import json\n",
    "import math\n",
    "\n",
    "from IPython.display import display\n",
    "from IPython.display import clear_output"
   ]
  },
  {
   "cell_type": "code",
   "execution_count": 2,
   "id": "c23499fc-f1b1-457e-ae3f-80f1cf413019",
   "metadata": {},
   "outputs": [],
   "source": [
    "with open(\"./config.json\", 'r') as f:\n",
    "    cfg = json.load(f)"
   ]
  },
  {
   "cell_type": "code",
   "execution_count": 3,
   "id": "7ba7fc84-f057-4691-b32c-9e3986678053",
   "metadata": {},
   "outputs": [],
   "source": [
    "env = holoocean.make(scenario_cfg=cfg)"
   ]
  },
  {
   "cell_type": "code",
   "execution_count": 4,
   "id": "90971787-7727-4b08-9724-65e72c16fe61",
   "metadata": {},
   "outputs": [],
   "source": [
    "# action = np.zeros(8)\n",
    "# action[4:8] -= 20"
   ]
  },
  {
   "cell_type": "code",
   "execution_count": 5,
   "id": "8c6c985a-c0de-45da-9092-aa552633e6a1",
   "metadata": {},
   "outputs": [],
   "source": [
    "# env.act('auv0', action)\n",
    "# observation = env.tick()\n",
    "# observation"
   ]
  },
  {
   "cell_type": "code",
   "execution_count": 6,
   "id": "ffd00b43-7439-441a-95f6-8f2d356ed724",
   "metadata": {},
   "outputs": [],
   "source": [
    "def add_to_map(env_map: list, coordinates: tuple):\n",
    "    env_map.append(coordinates)\n",
    "    pass"
   ]
  },
  {
   "cell_type": "code",
   "execution_count": 7,
   "id": "6022a365-528e-45d4-b640-b4e84a586210",
   "metadata": {},
   "outputs": [],
   "source": [
    "def get_coordinates(sensor_data: list, angle_z: float, min_distance: float, coordinates_robot: tuple, env_map: list, epsilon: float = 1) -> int:\n",
    "    # angle_z currently ignored\n",
    "    def get_min_distance(sensor_data: list, angle_z: float, min_distance: float, coordinates_robot: tuple, env_map: list) -> int:\n",
    "        min_dist, min_index = (float('inf'), float('inf'))\n",
    "        for index, distance in enumerate(sensor_data):\n",
    "            coordinates_point = calculate_coordinates(distance, index, angle_z, len(sensor_data) + 1)\n",
    "            coordinates_total = np.add(coordinates_robot, coordinates_point)\n",
    "            \n",
    "            already_discovered: bool = False \n",
    "            for coordinate in env_map:\n",
    "                \n",
    "                if not (coordinate[0] -  epsilon < coordinates_total[0] < coordinate[0] + epsilon): continue\n",
    "                \n",
    "                if not (coordinate[1] -  epsilon < coordinates_total[1] < coordinate[1] + epsilon): continue\n",
    "                    \n",
    "                if not (coordinate[2] -  epsilon < coordinates_total[2] < coordinate[2] + epsilon): continue\n",
    "                \n",
    "                already_discovered = True\n",
    "                break\n",
    "\n",
    "            if already_discovered:\n",
    "                continue\n",
    "            \n",
    "            if distance < min_distance: \n",
    "                add_to_map(env_map, coordinates_total)\n",
    "                continue\n",
    "                \n",
    "            if distance < min_dist:\n",
    "                min_dist, min_index = distance, index\n",
    "        \n",
    "        if min_index == float('inf'):\n",
    "            raise ValueError(\"no laser found\")\n",
    "            return 0\n",
    "        print(\"min distance \"+ str(min_dist))\n",
    "        return min_index\n",
    "    def calculate_coordinates(length: float, used_laser: int, angle_z: float, number_of_lasers: int) -> tuple:\n",
    "        def calculate_laser_angle(number_of_lasers: int) -> float:\n",
    "            angle_delta = 360/number_of_lasers\n",
    "            return angle_delta * used_laser\n",
    "        angle_y = calculate_laser_angle(number_of_lasers)\n",
    "        x = math.cos(angle_y) * length\n",
    "        y = math.sin(angle_y) * length\n",
    "        \n",
    "        return (x,y,0)\n",
    "    \n",
    "    used_laser = get_min_distance(sensor_data, angle_z, min_distance, coordinates_robot, env_map)\n",
    "    \n",
    "    print(\"chosen laser: \" + str(used_laser))\n",
    "    return calculate_coordinates(sensor_data[used_laser],\n",
    "                                 used_laser,\n",
    "                                 angle_z,\n",
    "                                 len(sensor_data) + 1), used_laser"
   ]
  },
  {
   "cell_type": "code",
   "execution_count": 8,
   "id": "1f45c29a-46fc-4ffb-9672-0c098cb39d17",
   "metadata": {},
   "outputs": [
    {
     "name": "stdout",
     "output_type": "stream",
     "text": [
      "min distance 3\n",
      "chosen laser: 2\n"
     ]
    },
    {
     "data": {
      "text/plain": [
       "((-1.7953802071735743, -2.403457907201491, 0), 2)"
      ]
     },
     "execution_count": 8,
     "metadata": {},
     "output_type": "execute_result"
    }
   ],
   "source": [
    "get_coordinates([13,10,3], 30, 2.5, (0,2,3), [])"
   ]
  },
  {
   "cell_type": "code",
   "execution_count": null,
   "id": "5958dbaf-4a06-4e3e-a1d8-a691e28ed3fa",
   "metadata": {},
   "outputs": [],
   "source": []
  },
  {
   "cell_type": "code",
   "execution_count": 9,
   "id": "2bb17d9e-4361-4217-a578-ef28d4b7d1ff",
   "metadata": {},
   "outputs": [],
   "source": [
    "def go_to_min_object(x: float, y: float, z: float, speed_factor: int = 5) -> list:\n",
    "    action = np.zeros(8)\n",
    "    \n",
    "    action[0:4] += z * speed_factor\n",
    "    action[4:8] += x * speed_factor\n",
    "    action[[4,6]] += y * speed_factor\n",
    "    action[[5,7]] -= y * speed_factor\n",
    "    \n",
    "    return action\n",
    "    "
   ]
  },
  {
   "cell_type": "code",
   "execution_count": null,
   "id": "6ce0c77a-9c67-49e7-845a-d82afe5bf194",
   "metadata": {},
   "outputs": [],
   "source": []
  },
  {
   "cell_type": "code",
   "execution_count": null,
   "id": "9b9eeabd-4340-4302-995b-4ad957563cff",
   "metadata": {},
   "outputs": [
    {
     "data": {
      "text/plain": [
       "{'DVLSensor': array([ 0.84251416,  1.3481954 ,  0.32800612,  2.1622283 , 20.        ,\n",
       "        20.        ,  4.153323  ], dtype=float32),\n",
       " 'IMUSensor': array([[ 3.1354527 ,  2.6471472 ,  9.497534  ],\n",
       "        [-0.45660976, -0.8641596 ,  0.28314266]], dtype=float32),\n",
       " 'DepthSensor': array([-3.9725995], dtype=float32),\n",
       " 'RangeFinderSensor': array([  2.1622283,   2.7104795,   4.048863 ,  11.680554 ,  23.306858 ,\n",
       "         68.89323  ,  80.10617  ,  90.48259  , 100.       , 100.       ,\n",
       "        100.       , 100.       , 100.       ,  66.05996  ,  51.265606 ,\n",
       "         44.354877 ,  41.583206 ,  16.040417 ,   4.153324 ,   2.7476685,\n",
       "          2.1683512,   1.9224185,   1.8499656,   1.9188341], dtype=float32),\n",
       " 'PoseSensor': array([[-8.9610040e-01,  3.9703715e-01,  1.9840829e-01, -5.2788193e+01],\n",
       "        [-4.0246558e-01, -9.1532886e-01,  1.3960814e-02,  1.9269176e+01],\n",
       "        [ 1.8715174e-01, -6.7342207e-02,  9.8002005e-01, -3.9725995e+00],\n",
       "        [ 0.0000000e+00,  0.0000000e+00,  0.0000000e+00,  1.0000000e+00]],\n",
       "       dtype=float32),\n",
       " 't': 15.733333333333333}"
      ]
     },
     "metadata": {},
     "output_type": "display_data"
    },
    {
     "data": {
      "text/plain": [
       "array([  0.        ,   0.        ,   0.        ,   0.        ,\n",
       "        75.30969155, -20.51328109,  75.30969155, -20.51328109])"
      ]
     },
     "metadata": {},
     "output_type": "display_data"
    },
    {
     "name": "stdout",
     "output_type": "stream",
     "text": [
      "min distance 11.680554\n",
      "chosen laser: 3\n"
     ]
    }
   ],
   "source": [
    "states = env.tick()\n",
    "env_map = []\n",
    "for i in range(300):\n",
    "    coordinates_relativ, min_index = get_coordinates(states[\"RangeFinderSensor\"], \n",
    "                                                     cfg[\"agents\"][0][\"sensors\"][3][\"configuration\"][\"LaserAngle\"], \n",
    "                                                     20, \n",
    "                                                     (states[\"PoseSensor\"][0][3], states[\"PoseSensor\"][1][3], states[\"PoseSensor\"][2][3]), env_map)\n",
    "    action = go_to_min_object(*coordinates_relativ, 4)\n",
    "    env.act('auv0', action)\n",
    "    states = env.tick(num_ticks=20)\n",
    "    vel = states[\"DVLSensor\"]\n",
    "    clear_output()\n",
    "    display(states)\n",
    "    display(action)\n",
    "    "
   ]
  },
  {
   "cell_type": "code",
   "execution_count": null,
   "id": "0f0b26c5-76cf-4ee7-ac8a-10a1b55a1c6a",
   "metadata": {},
   "outputs": [],
   "source": []
  },
  {
   "cell_type": "code",
   "execution_count": null,
   "id": "ab40b0fa-3d01-4257-afc3-c44a70507f17",
   "metadata": {},
   "outputs": [],
   "source": []
  }
 ],
 "metadata": {
  "kernelspec": {
   "display_name": "neidi",
   "language": "python",
   "name": "neidi"
  },
  "language_info": {
   "codemirror_mode": {
    "name": "ipython",
    "version": 3
   },
   "file_extension": ".py",
   "mimetype": "text/x-python",
   "name": "python",
   "nbconvert_exporter": "python",
   "pygments_lexer": "ipython3",
   "version": "3.8.13"
  }
 },
 "nbformat": 4,
 "nbformat_minor": 5
}
